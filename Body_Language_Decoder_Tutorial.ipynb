{
  "cells": [
    {
      "cell_type": "markdown",
      "metadata": {
        "id": "LPGQSBlvG2NW"
      },
      "source": [
        "# 0. Install and Import Dependencies"
      ]
    },
    {
      "cell_type": "code",
      "execution_count": 1,
      "metadata": {
        "colab": {
          "base_uri": "https://localhost:8080/"
        },
        "id": "TC75v9jXG2Nl",
        "outputId": "f0a314a0-5e28-4ce1-c9b1-8783dd2b5705"
      },
      "outputs": [
        {
          "name": "stdout",
          "output_type": "stream",
          "text": [
            "Requirement already satisfied: mediapipe in c:\\users\\hp\\appdata\\local\\packages\\pythonsoftwarefoundation.python.3.9_qbz5n2kfra8p0\\localcache\\local-packages\\python39\\site-packages (0.9.0.1)\n",
            "Requirement already satisfied: opencv-python in c:\\users\\hp\\appdata\\local\\packages\\pythonsoftwarefoundation.python.3.9_qbz5n2kfra8p0\\localcache\\local-packages\\python39\\site-packages (4.6.0.66)\n",
            "Requirement already satisfied: pandas in c:\\users\\hp\\appdata\\local\\packages\\pythonsoftwarefoundation.python.3.9_qbz5n2kfra8p0\\localcache\\local-packages\\python39\\site-packages (1.5.3)\n",
            "Requirement already satisfied: scikit-learn in c:\\users\\hp\\appdata\\local\\packages\\pythonsoftwarefoundation.python.3.9_qbz5n2kfra8p0\\localcache\\local-packages\\python39\\site-packages (1.1.1)\n",
            "Requirement already satisfied: opencv-contrib-python in c:\\users\\hp\\appdata\\local\\packages\\pythonsoftwarefoundation.python.3.9_qbz5n2kfra8p0\\localcache\\local-packages\\python39\\site-packages (from mediapipe) (4.7.0.68)\n",
            "Requirement already satisfied: numpy in c:\\users\\hp\\appdata\\local\\packages\\pythonsoftwarefoundation.python.3.9_qbz5n2kfra8p0\\localcache\\local-packages\\python39\\site-packages (from mediapipe) (1.24.1)\n",
            "Requirement already satisfied: attrs>=19.1.0 in c:\\users\\hp\\appdata\\local\\packages\\pythonsoftwarefoundation.python.3.9_qbz5n2kfra8p0\\localcache\\local-packages\\python39\\site-packages (from mediapipe) (22.2.0)\n",
            "Requirement already satisfied: matplotlib in c:\\users\\hp\\appdata\\local\\packages\\pythonsoftwarefoundation.python.3.9_qbz5n2kfra8p0\\localcache\\local-packages\\python39\\site-packages (from mediapipe) (3.6.3)\n",
            "Requirement already satisfied: absl-py in c:\\users\\hp\\appdata\\local\\packages\\pythonsoftwarefoundation.python.3.9_qbz5n2kfra8p0\\localcache\\local-packages\\python39\\site-packages (from mediapipe) (0.15.0)\n",
            "Requirement already satisfied: flatbuffers>=2.0 in c:\\users\\hp\\appdata\\local\\packages\\pythonsoftwarefoundation.python.3.9_qbz5n2kfra8p0\\localcache\\local-packages\\python39\\site-packages (from mediapipe) (23.1.21)\n",
            "Requirement already satisfied: protobuf<4,>=3.11 in c:\\users\\hp\\appdata\\local\\packages\\pythonsoftwarefoundation.python.3.9_qbz5n2kfra8p0\\localcache\\local-packages\\python39\\site-packages (from mediapipe) (3.20.1)\n",
            "Requirement already satisfied: python-dateutil>=2.8.1 in c:\\users\\hp\\appdata\\local\\packages\\pythonsoftwarefoundation.python.3.9_qbz5n2kfra8p0\\localcache\\local-packages\\python39\\site-packages (from pandas) (2.8.2)\n",
            "Requirement already satisfied: pytz>=2020.1 in c:\\users\\hp\\appdata\\local\\packages\\pythonsoftwarefoundation.python.3.9_qbz5n2kfra8p0\\localcache\\local-packages\\python39\\site-packages (from pandas) (2022.7.1)\n",
            "Requirement already satisfied: threadpoolctl>=2.0.0 in c:\\users\\hp\\appdata\\local\\packages\\pythonsoftwarefoundation.python.3.9_qbz5n2kfra8p0\\localcache\\local-packages\\python39\\site-packages (from scikit-learn) (3.1.0)\n",
            "Requirement already satisfied: joblib>=1.0.0 in c:\\users\\hp\\appdata\\local\\packages\\pythonsoftwarefoundation.python.3.9_qbz5n2kfra8p0\\localcache\\local-packages\\python39\\site-packages (from scikit-learn) (1.1.0)\n",
            "Requirement already satisfied: scipy>=1.3.2 in c:\\users\\hp\\appdata\\local\\packages\\pythonsoftwarefoundation.python.3.9_qbz5n2kfra8p0\\localcache\\local-packages\\python39\\site-packages (from scikit-learn) (1.8.1)\n",
            "Requirement already satisfied: six>=1.5 in c:\\users\\hp\\appdata\\local\\packages\\pythonsoftwarefoundation.python.3.9_qbz5n2kfra8p0\\localcache\\local-packages\\python39\\site-packages (from python-dateutil>=2.8.1->pandas) (1.15.0)\n",
            "Requirement already satisfied: pyparsing>=2.2.1 in c:\\users\\hp\\appdata\\local\\packages\\pythonsoftwarefoundation.python.3.9_qbz5n2kfra8p0\\localcache\\local-packages\\python39\\site-packages (from matplotlib->mediapipe) (3.0.9)\n",
            "Requirement already satisfied: pillow>=6.2.0 in c:\\users\\hp\\appdata\\local\\packages\\pythonsoftwarefoundation.python.3.9_qbz5n2kfra8p0\\localcache\\local-packages\\python39\\site-packages (from matplotlib->mediapipe) (9.4.0)\n",
            "Requirement already satisfied: fonttools>=4.22.0 in c:\\users\\hp\\appdata\\local\\packages\\pythonsoftwarefoundation.python.3.9_qbz5n2kfra8p0\\localcache\\local-packages\\python39\\site-packages (from matplotlib->mediapipe) (4.38.0)\n",
            "Requirement already satisfied: contourpy>=1.0.1 in c:\\users\\hp\\appdata\\local\\packages\\pythonsoftwarefoundation.python.3.9_qbz5n2kfra8p0\\localcache\\local-packages\\python39\\site-packages (from matplotlib->mediapipe) (1.0.7)\n",
            "Requirement already satisfied: kiwisolver>=1.0.1 in c:\\users\\hp\\appdata\\local\\packages\\pythonsoftwarefoundation.python.3.9_qbz5n2kfra8p0\\localcache\\local-packages\\python39\\site-packages (from matplotlib->mediapipe) (1.4.4)\n",
            "Requirement already satisfied: packaging>=20.0 in c:\\users\\hp\\appdata\\local\\packages\\pythonsoftwarefoundation.python.3.9_qbz5n2kfra8p0\\localcache\\local-packages\\python39\\site-packages (from matplotlib->mediapipe) (21.3)\n",
            "Requirement already satisfied: cycler>=0.10 in c:\\users\\hp\\appdata\\local\\packages\\pythonsoftwarefoundation.python.3.9_qbz5n2kfra8p0\\localcache\\local-packages\\python39\\site-packages (from matplotlib->mediapipe) (0.11.0)\n"
          ]
        }
      ],
      "source": [
        "!pip install mediapipe opencv-python pandas scikit-learn"
      ]
    },
    {
      "cell_type": "code",
      "execution_count": 2,
      "metadata": {
        "id": "ApHzdiWyG2Nn"
      },
      "outputs": [],
      "source": [
        "import mediapipe as mp # Import mediapipe\n",
        "import cv2 # Import opencv"
      ]
    },
    {
      "cell_type": "code",
      "execution_count": 3,
      "metadata": {
        "id": "xhBAA9rcG2No"
      },
      "outputs": [],
      "source": [
        "mp_drawing = mp.solutions.drawing_utils # Drawing helpers\n",
        "mp_holistic = mp.solutions.holistic # Mediapipe Solutions"
      ]
    },
    {
      "cell_type": "markdown",
      "metadata": {
        "id": "OyDNOUHxG2Np"
      },
      "source": [
        "# 1. Make Some Detections"
      ]
    },
    {
      "cell_type": "code",
      "execution_count": 9,
      "metadata": {
        "id": "GW2UHHlaG2Np"
      },
      "outputs": [],
      "source": [
        "cap = cv2.VideoCapture(0)\n",
        "# Initiate holistic model\n",
        "with mp_holistic.Holistic(min_detection_confidence=0.5, min_tracking_confidence=0.5) as holistic:\n",
        "    \n",
        "    while cap.isOpened():\n",
        "        ret, frame = cap.read()\n",
        "        \n",
        "        # Recolor Feed\n",
        "        image = cv2.cvtColor(frame, cv2.COLOR_BGR2RGB)\n",
        "        image.flags.writeable = False        \n",
        "        \n",
        "        # Make Detections\n",
        "        results = holistic.process(image)\n",
        "        # print(results.face_landmarks)\n",
        "        \n",
        "        # face_landmarks, pose_landmarks, left_hand_landmarks, right_hand_landmarks\n",
        "        \n",
        "        # Recolor image back to BGR for rendering\n",
        "        image.flags.writeable = True   \n",
        "        image = cv2.cvtColor(image, cv2.COLOR_RGB2BGR)\n",
        "        \n",
        "        # 1. Draw face landmarks\n",
        "        mp_drawing.draw_landmarks(image, results.face_landmarks, mp_holistic.FACEMESH_TESSELATION, \n",
        "                                 mp_drawing.DrawingSpec(color=(80,110,10), thickness=1, circle_radius=1),\n",
        "                                 mp_drawing.DrawingSpec(color=(80,256,121), thickness=1, circle_radius=1)\n",
        "                                 )\n",
        "        \n",
        "        # 2. Right hand\n",
        "        mp_drawing.draw_landmarks(image, results.right_hand_landmarks, mp_holistic.HAND_CONNECTIONS, \n",
        "                                 mp_drawing.DrawingSpec(color=(80,22,10), thickness=2, circle_radius=4),\n",
        "                                 mp_drawing.DrawingSpec(color=(80,44,121), thickness=2, circle_radius=2)\n",
        "                                 )\n",
        "\n",
        "        # 3. Left Hand\n",
        "        mp_drawing.draw_landmarks(image, results.left_hand_landmarks, mp_holistic.HAND_CONNECTIONS, \n",
        "                                 mp_drawing.DrawingSpec(color=(121,22,76), thickness=2, circle_radius=4),\n",
        "                                 mp_drawing.DrawingSpec(color=(121,44,250), thickness=2, circle_radius=2)\n",
        "                                 )\n",
        "\n",
        "        # 4. Pose Detections\n",
        "        mp_drawing.draw_landmarks(image, results.pose_landmarks, mp_holistic.POSE_CONNECTIONS, \n",
        "                                 mp_drawing.DrawingSpec(color=(245,117,66), thickness=2, circle_radius=4),\n",
        "                                 mp_drawing.DrawingSpec(color=(245,66,230), thickness=2, circle_radius=2)\n",
        "                                 )\n",
        "                        \n",
        "        cv2.imshow('Raw Webcam Feed', image)\n",
        "\n",
        "        if cv2.waitKey(10) & 0xFF == ord('q'):\n",
        "            break\n",
        "\n",
        "cap.release()\n",
        "cv2.destroyAllWindows()"
      ]
    },
    {
      "cell_type": "code",
      "execution_count": 10,
      "metadata": {
        "colab": {
          "base_uri": "https://localhost:8080/",
          "height": 172
        },
        "id": "RrbjL2LsG2Ns",
        "outputId": "224d94a7-dfab-4c09-b509-81c025767484"
      },
      "outputs": [
        {
          "data": {
            "text/plain": [
              "0.0"
            ]
          },
          "execution_count": 10,
          "metadata": {},
          "output_type": "execute_result"
        }
      ],
      "source": [
        "results.face_landmarks.landmark[0].visibility"
      ]
    },
    {
      "cell_type": "markdown",
      "metadata": {
        "id": "fRg7ZsuVG2Nt"
      },
      "source": [
        "# 2. Capture Landmarks & Export to CSV\n",
        "<!--<img src=\"https://i.imgur.com/8bForKY.png\">-->\n",
        "<!--<img src=\"https://i.imgur.com/AzKNp7A.png\">-->"
      ]
    },
    {
      "cell_type": "code",
      "execution_count": 11,
      "metadata": {
        "id": "3QlrnapeG2Nw"
      },
      "outputs": [],
      "source": [
        "import csv\n",
        "import os\n",
        "import numpy as np"
      ]
    },
    {
      "cell_type": "code",
      "execution_count": 12,
      "metadata": {
        "id": "l5nxNO_oG2Ny"
      },
      "outputs": [
        {
          "data": {
            "text/plain": [
              "501"
            ]
          },
          "execution_count": 12,
          "metadata": {},
          "output_type": "execute_result"
        }
      ],
      "source": [
        "num_coords = len(results.pose_landmarks.landmark)+len(results.face_landmarks.landmark)\n",
        "num_coords"
      ]
    },
    {
      "cell_type": "code",
      "execution_count": 13,
      "metadata": {
        "id": "PLnLrgbyG2Nz"
      },
      "outputs": [],
      "source": [
        "landmarks = ['class']\n",
        "for val in range(1, num_coords+1):\n",
        "    landmarks += ['x{}'.format(val), 'y{}'.format(val), 'z{}'.format(val), 'v{}'.format(val)]"
      ]
    },
    {
      "cell_type": "code",
      "execution_count": 14,
      "metadata": {
        "id": "T573Wz1cG2N0"
      },
      "outputs": [
        {
          "data": {
            "text/plain": [
              "['class',\n",
              " 'x1',\n",
              " 'y1',\n",
              " 'z1',\n",
              " 'v1',\n",
              " 'x2',\n",
              " 'y2',\n",
              " 'z2',\n",
              " 'v2',\n",
              " 'x3',\n",
              " 'y3',\n",
              " 'z3',\n",
              " 'v3',\n",
              " 'x4',\n",
              " 'y4',\n",
              " 'z4',\n",
              " 'v4',\n",
              " 'x5',\n",
              " 'y5',\n",
              " 'z5',\n",
              " 'v5',\n",
              " 'x6',\n",
              " 'y6',\n",
              " 'z6',\n",
              " 'v6',\n",
              " 'x7',\n",
              " 'y7',\n",
              " 'z7',\n",
              " 'v7',\n",
              " 'x8',\n",
              " 'y8',\n",
              " 'z8',\n",
              " 'v8',\n",
              " 'x9',\n",
              " 'y9',\n",
              " 'z9',\n",
              " 'v9',\n",
              " 'x10',\n",
              " 'y10',\n",
              " 'z10',\n",
              " 'v10',\n",
              " 'x11',\n",
              " 'y11',\n",
              " 'z11',\n",
              " 'v11',\n",
              " 'x12',\n",
              " 'y12',\n",
              " 'z12',\n",
              " 'v12',\n",
              " 'x13',\n",
              " 'y13',\n",
              " 'z13',\n",
              " 'v13',\n",
              " 'x14',\n",
              " 'y14',\n",
              " 'z14',\n",
              " 'v14',\n",
              " 'x15',\n",
              " 'y15',\n",
              " 'z15',\n",
              " 'v15',\n",
              " 'x16',\n",
              " 'y16',\n",
              " 'z16',\n",
              " 'v16',\n",
              " 'x17',\n",
              " 'y17',\n",
              " 'z17',\n",
              " 'v17',\n",
              " 'x18',\n",
              " 'y18',\n",
              " 'z18',\n",
              " 'v18',\n",
              " 'x19',\n",
              " 'y19',\n",
              " 'z19',\n",
              " 'v19',\n",
              " 'x20',\n",
              " 'y20',\n",
              " 'z20',\n",
              " 'v20',\n",
              " 'x21',\n",
              " 'y21',\n",
              " 'z21',\n",
              " 'v21',\n",
              " 'x22',\n",
              " 'y22',\n",
              " 'z22',\n",
              " 'v22',\n",
              " 'x23',\n",
              " 'y23',\n",
              " 'z23',\n",
              " 'v23',\n",
              " 'x24',\n",
              " 'y24',\n",
              " 'z24',\n",
              " 'v24',\n",
              " 'x25',\n",
              " 'y25',\n",
              " 'z25',\n",
              " 'v25',\n",
              " 'x26',\n",
              " 'y26',\n",
              " 'z26',\n",
              " 'v26',\n",
              " 'x27',\n",
              " 'y27',\n",
              " 'z27',\n",
              " 'v27',\n",
              " 'x28',\n",
              " 'y28',\n",
              " 'z28',\n",
              " 'v28',\n",
              " 'x29',\n",
              " 'y29',\n",
              " 'z29',\n",
              " 'v29',\n",
              " 'x30',\n",
              " 'y30',\n",
              " 'z30',\n",
              " 'v30',\n",
              " 'x31',\n",
              " 'y31',\n",
              " 'z31',\n",
              " 'v31',\n",
              " 'x32',\n",
              " 'y32',\n",
              " 'z32',\n",
              " 'v32',\n",
              " 'x33',\n",
              " 'y33',\n",
              " 'z33',\n",
              " 'v33',\n",
              " 'x34',\n",
              " 'y34',\n",
              " 'z34',\n",
              " 'v34',\n",
              " 'x35',\n",
              " 'y35',\n",
              " 'z35',\n",
              " 'v35',\n",
              " 'x36',\n",
              " 'y36',\n",
              " 'z36',\n",
              " 'v36',\n",
              " 'x37',\n",
              " 'y37',\n",
              " 'z37',\n",
              " 'v37',\n",
              " 'x38',\n",
              " 'y38',\n",
              " 'z38',\n",
              " 'v38',\n",
              " 'x39',\n",
              " 'y39',\n",
              " 'z39',\n",
              " 'v39',\n",
              " 'x40',\n",
              " 'y40',\n",
              " 'z40',\n",
              " 'v40',\n",
              " 'x41',\n",
              " 'y41',\n",
              " 'z41',\n",
              " 'v41',\n",
              " 'x42',\n",
              " 'y42',\n",
              " 'z42',\n",
              " 'v42',\n",
              " 'x43',\n",
              " 'y43',\n",
              " 'z43',\n",
              " 'v43',\n",
              " 'x44',\n",
              " 'y44',\n",
              " 'z44',\n",
              " 'v44',\n",
              " 'x45',\n",
              " 'y45',\n",
              " 'z45',\n",
              " 'v45',\n",
              " 'x46',\n",
              " 'y46',\n",
              " 'z46',\n",
              " 'v46',\n",
              " 'x47',\n",
              " 'y47',\n",
              " 'z47',\n",
              " 'v47',\n",
              " 'x48',\n",
              " 'y48',\n",
              " 'z48',\n",
              " 'v48',\n",
              " 'x49',\n",
              " 'y49',\n",
              " 'z49',\n",
              " 'v49',\n",
              " 'x50',\n",
              " 'y50',\n",
              " 'z50',\n",
              " 'v50',\n",
              " 'x51',\n",
              " 'y51',\n",
              " 'z51',\n",
              " 'v51',\n",
              " 'x52',\n",
              " 'y52',\n",
              " 'z52',\n",
              " 'v52',\n",
              " 'x53',\n",
              " 'y53',\n",
              " 'z53',\n",
              " 'v53',\n",
              " 'x54',\n",
              " 'y54',\n",
              " 'z54',\n",
              " 'v54',\n",
              " 'x55',\n",
              " 'y55',\n",
              " 'z55',\n",
              " 'v55',\n",
              " 'x56',\n",
              " 'y56',\n",
              " 'z56',\n",
              " 'v56',\n",
              " 'x57',\n",
              " 'y57',\n",
              " 'z57',\n",
              " 'v57',\n",
              " 'x58',\n",
              " 'y58',\n",
              " 'z58',\n",
              " 'v58',\n",
              " 'x59',\n",
              " 'y59',\n",
              " 'z59',\n",
              " 'v59',\n",
              " 'x60',\n",
              " 'y60',\n",
              " 'z60',\n",
              " 'v60',\n",
              " 'x61',\n",
              " 'y61',\n",
              " 'z61',\n",
              " 'v61',\n",
              " 'x62',\n",
              " 'y62',\n",
              " 'z62',\n",
              " 'v62',\n",
              " 'x63',\n",
              " 'y63',\n",
              " 'z63',\n",
              " 'v63',\n",
              " 'x64',\n",
              " 'y64',\n",
              " 'z64',\n",
              " 'v64',\n",
              " 'x65',\n",
              " 'y65',\n",
              " 'z65',\n",
              " 'v65',\n",
              " 'x66',\n",
              " 'y66',\n",
              " 'z66',\n",
              " 'v66',\n",
              " 'x67',\n",
              " 'y67',\n",
              " 'z67',\n",
              " 'v67',\n",
              " 'x68',\n",
              " 'y68',\n",
              " 'z68',\n",
              " 'v68',\n",
              " 'x69',\n",
              " 'y69',\n",
              " 'z69',\n",
              " 'v69',\n",
              " 'x70',\n",
              " 'y70',\n",
              " 'z70',\n",
              " 'v70',\n",
              " 'x71',\n",
              " 'y71',\n",
              " 'z71',\n",
              " 'v71',\n",
              " 'x72',\n",
              " 'y72',\n",
              " 'z72',\n",
              " 'v72',\n",
              " 'x73',\n",
              " 'y73',\n",
              " 'z73',\n",
              " 'v73',\n",
              " 'x74',\n",
              " 'y74',\n",
              " 'z74',\n",
              " 'v74',\n",
              " 'x75',\n",
              " 'y75',\n",
              " 'z75',\n",
              " 'v75',\n",
              " 'x76',\n",
              " 'y76',\n",
              " 'z76',\n",
              " 'v76',\n",
              " 'x77',\n",
              " 'y77',\n",
              " 'z77',\n",
              " 'v77',\n",
              " 'x78',\n",
              " 'y78',\n",
              " 'z78',\n",
              " 'v78',\n",
              " 'x79',\n",
              " 'y79',\n",
              " 'z79',\n",
              " 'v79',\n",
              " 'x80',\n",
              " 'y80',\n",
              " 'z80',\n",
              " 'v80',\n",
              " 'x81',\n",
              " 'y81',\n",
              " 'z81',\n",
              " 'v81',\n",
              " 'x82',\n",
              " 'y82',\n",
              " 'z82',\n",
              " 'v82',\n",
              " 'x83',\n",
              " 'y83',\n",
              " 'z83',\n",
              " 'v83',\n",
              " 'x84',\n",
              " 'y84',\n",
              " 'z84',\n",
              " 'v84',\n",
              " 'x85',\n",
              " 'y85',\n",
              " 'z85',\n",
              " 'v85',\n",
              " 'x86',\n",
              " 'y86',\n",
              " 'z86',\n",
              " 'v86',\n",
              " 'x87',\n",
              " 'y87',\n",
              " 'z87',\n",
              " 'v87',\n",
              " 'x88',\n",
              " 'y88',\n",
              " 'z88',\n",
              " 'v88',\n",
              " 'x89',\n",
              " 'y89',\n",
              " 'z89',\n",
              " 'v89',\n",
              " 'x90',\n",
              " 'y90',\n",
              " 'z90',\n",
              " 'v90',\n",
              " 'x91',\n",
              " 'y91',\n",
              " 'z91',\n",
              " 'v91',\n",
              " 'x92',\n",
              " 'y92',\n",
              " 'z92',\n",
              " 'v92',\n",
              " 'x93',\n",
              " 'y93',\n",
              " 'z93',\n",
              " 'v93',\n",
              " 'x94',\n",
              " 'y94',\n",
              " 'z94',\n",
              " 'v94',\n",
              " 'x95',\n",
              " 'y95',\n",
              " 'z95',\n",
              " 'v95',\n",
              " 'x96',\n",
              " 'y96',\n",
              " 'z96',\n",
              " 'v96',\n",
              " 'x97',\n",
              " 'y97',\n",
              " 'z97',\n",
              " 'v97',\n",
              " 'x98',\n",
              " 'y98',\n",
              " 'z98',\n",
              " 'v98',\n",
              " 'x99',\n",
              " 'y99',\n",
              " 'z99',\n",
              " 'v99',\n",
              " 'x100',\n",
              " 'y100',\n",
              " 'z100',\n",
              " 'v100',\n",
              " 'x101',\n",
              " 'y101',\n",
              " 'z101',\n",
              " 'v101',\n",
              " 'x102',\n",
              " 'y102',\n",
              " 'z102',\n",
              " 'v102',\n",
              " 'x103',\n",
              " 'y103',\n",
              " 'z103',\n",
              " 'v103',\n",
              " 'x104',\n",
              " 'y104',\n",
              " 'z104',\n",
              " 'v104',\n",
              " 'x105',\n",
              " 'y105',\n",
              " 'z105',\n",
              " 'v105',\n",
              " 'x106',\n",
              " 'y106',\n",
              " 'z106',\n",
              " 'v106',\n",
              " 'x107',\n",
              " 'y107',\n",
              " 'z107',\n",
              " 'v107',\n",
              " 'x108',\n",
              " 'y108',\n",
              " 'z108',\n",
              " 'v108',\n",
              " 'x109',\n",
              " 'y109',\n",
              " 'z109',\n",
              " 'v109',\n",
              " 'x110',\n",
              " 'y110',\n",
              " 'z110',\n",
              " 'v110',\n",
              " 'x111',\n",
              " 'y111',\n",
              " 'z111',\n",
              " 'v111',\n",
              " 'x112',\n",
              " 'y112',\n",
              " 'z112',\n",
              " 'v112',\n",
              " 'x113',\n",
              " 'y113',\n",
              " 'z113',\n",
              " 'v113',\n",
              " 'x114',\n",
              " 'y114',\n",
              " 'z114',\n",
              " 'v114',\n",
              " 'x115',\n",
              " 'y115',\n",
              " 'z115',\n",
              " 'v115',\n",
              " 'x116',\n",
              " 'y116',\n",
              " 'z116',\n",
              " 'v116',\n",
              " 'x117',\n",
              " 'y117',\n",
              " 'z117',\n",
              " 'v117',\n",
              " 'x118',\n",
              " 'y118',\n",
              " 'z118',\n",
              " 'v118',\n",
              " 'x119',\n",
              " 'y119',\n",
              " 'z119',\n",
              " 'v119',\n",
              " 'x120',\n",
              " 'y120',\n",
              " 'z120',\n",
              " 'v120',\n",
              " 'x121',\n",
              " 'y121',\n",
              " 'z121',\n",
              " 'v121',\n",
              " 'x122',\n",
              " 'y122',\n",
              " 'z122',\n",
              " 'v122',\n",
              " 'x123',\n",
              " 'y123',\n",
              " 'z123',\n",
              " 'v123',\n",
              " 'x124',\n",
              " 'y124',\n",
              " 'z124',\n",
              " 'v124',\n",
              " 'x125',\n",
              " 'y125',\n",
              " 'z125',\n",
              " 'v125',\n",
              " 'x126',\n",
              " 'y126',\n",
              " 'z126',\n",
              " 'v126',\n",
              " 'x127',\n",
              " 'y127',\n",
              " 'z127',\n",
              " 'v127',\n",
              " 'x128',\n",
              " 'y128',\n",
              " 'z128',\n",
              " 'v128',\n",
              " 'x129',\n",
              " 'y129',\n",
              " 'z129',\n",
              " 'v129',\n",
              " 'x130',\n",
              " 'y130',\n",
              " 'z130',\n",
              " 'v130',\n",
              " 'x131',\n",
              " 'y131',\n",
              " 'z131',\n",
              " 'v131',\n",
              " 'x132',\n",
              " 'y132',\n",
              " 'z132',\n",
              " 'v132',\n",
              " 'x133',\n",
              " 'y133',\n",
              " 'z133',\n",
              " 'v133',\n",
              " 'x134',\n",
              " 'y134',\n",
              " 'z134',\n",
              " 'v134',\n",
              " 'x135',\n",
              " 'y135',\n",
              " 'z135',\n",
              " 'v135',\n",
              " 'x136',\n",
              " 'y136',\n",
              " 'z136',\n",
              " 'v136',\n",
              " 'x137',\n",
              " 'y137',\n",
              " 'z137',\n",
              " 'v137',\n",
              " 'x138',\n",
              " 'y138',\n",
              " 'z138',\n",
              " 'v138',\n",
              " 'x139',\n",
              " 'y139',\n",
              " 'z139',\n",
              " 'v139',\n",
              " 'x140',\n",
              " 'y140',\n",
              " 'z140',\n",
              " 'v140',\n",
              " 'x141',\n",
              " 'y141',\n",
              " 'z141',\n",
              " 'v141',\n",
              " 'x142',\n",
              " 'y142',\n",
              " 'z142',\n",
              " 'v142',\n",
              " 'x143',\n",
              " 'y143',\n",
              " 'z143',\n",
              " 'v143',\n",
              " 'x144',\n",
              " 'y144',\n",
              " 'z144',\n",
              " 'v144',\n",
              " 'x145',\n",
              " 'y145',\n",
              " 'z145',\n",
              " 'v145',\n",
              " 'x146',\n",
              " 'y146',\n",
              " 'z146',\n",
              " 'v146',\n",
              " 'x147',\n",
              " 'y147',\n",
              " 'z147',\n",
              " 'v147',\n",
              " 'x148',\n",
              " 'y148',\n",
              " 'z148',\n",
              " 'v148',\n",
              " 'x149',\n",
              " 'y149',\n",
              " 'z149',\n",
              " 'v149',\n",
              " 'x150',\n",
              " 'y150',\n",
              " 'z150',\n",
              " 'v150',\n",
              " 'x151',\n",
              " 'y151',\n",
              " 'z151',\n",
              " 'v151',\n",
              " 'x152',\n",
              " 'y152',\n",
              " 'z152',\n",
              " 'v152',\n",
              " 'x153',\n",
              " 'y153',\n",
              " 'z153',\n",
              " 'v153',\n",
              " 'x154',\n",
              " 'y154',\n",
              " 'z154',\n",
              " 'v154',\n",
              " 'x155',\n",
              " 'y155',\n",
              " 'z155',\n",
              " 'v155',\n",
              " 'x156',\n",
              " 'y156',\n",
              " 'z156',\n",
              " 'v156',\n",
              " 'x157',\n",
              " 'y157',\n",
              " 'z157',\n",
              " 'v157',\n",
              " 'x158',\n",
              " 'y158',\n",
              " 'z158',\n",
              " 'v158',\n",
              " 'x159',\n",
              " 'y159',\n",
              " 'z159',\n",
              " 'v159',\n",
              " 'x160',\n",
              " 'y160',\n",
              " 'z160',\n",
              " 'v160',\n",
              " 'x161',\n",
              " 'y161',\n",
              " 'z161',\n",
              " 'v161',\n",
              " 'x162',\n",
              " 'y162',\n",
              " 'z162',\n",
              " 'v162',\n",
              " 'x163',\n",
              " 'y163',\n",
              " 'z163',\n",
              " 'v163',\n",
              " 'x164',\n",
              " 'y164',\n",
              " 'z164',\n",
              " 'v164',\n",
              " 'x165',\n",
              " 'y165',\n",
              " 'z165',\n",
              " 'v165',\n",
              " 'x166',\n",
              " 'y166',\n",
              " 'z166',\n",
              " 'v166',\n",
              " 'x167',\n",
              " 'y167',\n",
              " 'z167',\n",
              " 'v167',\n",
              " 'x168',\n",
              " 'y168',\n",
              " 'z168',\n",
              " 'v168',\n",
              " 'x169',\n",
              " 'y169',\n",
              " 'z169',\n",
              " 'v169',\n",
              " 'x170',\n",
              " 'y170',\n",
              " 'z170',\n",
              " 'v170',\n",
              " 'x171',\n",
              " 'y171',\n",
              " 'z171',\n",
              " 'v171',\n",
              " 'x172',\n",
              " 'y172',\n",
              " 'z172',\n",
              " 'v172',\n",
              " 'x173',\n",
              " 'y173',\n",
              " 'z173',\n",
              " 'v173',\n",
              " 'x174',\n",
              " 'y174',\n",
              " 'z174',\n",
              " 'v174',\n",
              " 'x175',\n",
              " 'y175',\n",
              " 'z175',\n",
              " 'v175',\n",
              " 'x176',\n",
              " 'y176',\n",
              " 'z176',\n",
              " 'v176',\n",
              " 'x177',\n",
              " 'y177',\n",
              " 'z177',\n",
              " 'v177',\n",
              " 'x178',\n",
              " 'y178',\n",
              " 'z178',\n",
              " 'v178',\n",
              " 'x179',\n",
              " 'y179',\n",
              " 'z179',\n",
              " 'v179',\n",
              " 'x180',\n",
              " 'y180',\n",
              " 'z180',\n",
              " 'v180',\n",
              " 'x181',\n",
              " 'y181',\n",
              " 'z181',\n",
              " 'v181',\n",
              " 'x182',\n",
              " 'y182',\n",
              " 'z182',\n",
              " 'v182',\n",
              " 'x183',\n",
              " 'y183',\n",
              " 'z183',\n",
              " 'v183',\n",
              " 'x184',\n",
              " 'y184',\n",
              " 'z184',\n",
              " 'v184',\n",
              " 'x185',\n",
              " 'y185',\n",
              " 'z185',\n",
              " 'v185',\n",
              " 'x186',\n",
              " 'y186',\n",
              " 'z186',\n",
              " 'v186',\n",
              " 'x187',\n",
              " 'y187',\n",
              " 'z187',\n",
              " 'v187',\n",
              " 'x188',\n",
              " 'y188',\n",
              " 'z188',\n",
              " 'v188',\n",
              " 'x189',\n",
              " 'y189',\n",
              " 'z189',\n",
              " 'v189',\n",
              " 'x190',\n",
              " 'y190',\n",
              " 'z190',\n",
              " 'v190',\n",
              " 'x191',\n",
              " 'y191',\n",
              " 'z191',\n",
              " 'v191',\n",
              " 'x192',\n",
              " 'y192',\n",
              " 'z192',\n",
              " 'v192',\n",
              " 'x193',\n",
              " 'y193',\n",
              " 'z193',\n",
              " 'v193',\n",
              " 'x194',\n",
              " 'y194',\n",
              " 'z194',\n",
              " 'v194',\n",
              " 'x195',\n",
              " 'y195',\n",
              " 'z195',\n",
              " 'v195',\n",
              " 'x196',\n",
              " 'y196',\n",
              " 'z196',\n",
              " 'v196',\n",
              " 'x197',\n",
              " 'y197',\n",
              " 'z197',\n",
              " 'v197',\n",
              " 'x198',\n",
              " 'y198',\n",
              " 'z198',\n",
              " 'v198',\n",
              " 'x199',\n",
              " 'y199',\n",
              " 'z199',\n",
              " 'v199',\n",
              " 'x200',\n",
              " 'y200',\n",
              " 'z200',\n",
              " 'v200',\n",
              " 'x201',\n",
              " 'y201',\n",
              " 'z201',\n",
              " 'v201',\n",
              " 'x202',\n",
              " 'y202',\n",
              " 'z202',\n",
              " 'v202',\n",
              " 'x203',\n",
              " 'y203',\n",
              " 'z203',\n",
              " 'v203',\n",
              " 'x204',\n",
              " 'y204',\n",
              " 'z204',\n",
              " 'v204',\n",
              " 'x205',\n",
              " 'y205',\n",
              " 'z205',\n",
              " 'v205',\n",
              " 'x206',\n",
              " 'y206',\n",
              " 'z206',\n",
              " 'v206',\n",
              " 'x207',\n",
              " 'y207',\n",
              " 'z207',\n",
              " 'v207',\n",
              " 'x208',\n",
              " 'y208',\n",
              " 'z208',\n",
              " 'v208',\n",
              " 'x209',\n",
              " 'y209',\n",
              " 'z209',\n",
              " 'v209',\n",
              " 'x210',\n",
              " 'y210',\n",
              " 'z210',\n",
              " 'v210',\n",
              " 'x211',\n",
              " 'y211',\n",
              " 'z211',\n",
              " 'v211',\n",
              " 'x212',\n",
              " 'y212',\n",
              " 'z212',\n",
              " 'v212',\n",
              " 'x213',\n",
              " 'y213',\n",
              " 'z213',\n",
              " 'v213',\n",
              " 'x214',\n",
              " 'y214',\n",
              " 'z214',\n",
              " 'v214',\n",
              " 'x215',\n",
              " 'y215',\n",
              " 'z215',\n",
              " 'v215',\n",
              " 'x216',\n",
              " 'y216',\n",
              " 'z216',\n",
              " 'v216',\n",
              " 'x217',\n",
              " 'y217',\n",
              " 'z217',\n",
              " 'v217',\n",
              " 'x218',\n",
              " 'y218',\n",
              " 'z218',\n",
              " 'v218',\n",
              " 'x219',\n",
              " 'y219',\n",
              " 'z219',\n",
              " 'v219',\n",
              " 'x220',\n",
              " 'y220',\n",
              " 'z220',\n",
              " 'v220',\n",
              " 'x221',\n",
              " 'y221',\n",
              " 'z221',\n",
              " 'v221',\n",
              " 'x222',\n",
              " 'y222',\n",
              " 'z222',\n",
              " 'v222',\n",
              " 'x223',\n",
              " 'y223',\n",
              " 'z223',\n",
              " 'v223',\n",
              " 'x224',\n",
              " 'y224',\n",
              " 'z224',\n",
              " 'v224',\n",
              " 'x225',\n",
              " 'y225',\n",
              " 'z225',\n",
              " 'v225',\n",
              " 'x226',\n",
              " 'y226',\n",
              " 'z226',\n",
              " 'v226',\n",
              " 'x227',\n",
              " 'y227',\n",
              " 'z227',\n",
              " 'v227',\n",
              " 'x228',\n",
              " 'y228',\n",
              " 'z228',\n",
              " 'v228',\n",
              " 'x229',\n",
              " 'y229',\n",
              " 'z229',\n",
              " 'v229',\n",
              " 'x230',\n",
              " 'y230',\n",
              " 'z230',\n",
              " 'v230',\n",
              " 'x231',\n",
              " 'y231',\n",
              " 'z231',\n",
              " 'v231',\n",
              " 'x232',\n",
              " 'y232',\n",
              " 'z232',\n",
              " 'v232',\n",
              " 'x233',\n",
              " 'y233',\n",
              " 'z233',\n",
              " 'v233',\n",
              " 'x234',\n",
              " 'y234',\n",
              " 'z234',\n",
              " 'v234',\n",
              " 'x235',\n",
              " 'y235',\n",
              " 'z235',\n",
              " 'v235',\n",
              " 'x236',\n",
              " 'y236',\n",
              " 'z236',\n",
              " 'v236',\n",
              " 'x237',\n",
              " 'y237',\n",
              " 'z237',\n",
              " 'v237',\n",
              " 'x238',\n",
              " 'y238',\n",
              " 'z238',\n",
              " 'v238',\n",
              " 'x239',\n",
              " 'y239',\n",
              " 'z239',\n",
              " 'v239',\n",
              " 'x240',\n",
              " 'y240',\n",
              " 'z240',\n",
              " 'v240',\n",
              " 'x241',\n",
              " 'y241',\n",
              " 'z241',\n",
              " 'v241',\n",
              " 'x242',\n",
              " 'y242',\n",
              " 'z242',\n",
              " 'v242',\n",
              " 'x243',\n",
              " 'y243',\n",
              " 'z243',\n",
              " 'v243',\n",
              " 'x244',\n",
              " 'y244',\n",
              " 'z244',\n",
              " 'v244',\n",
              " 'x245',\n",
              " 'y245',\n",
              " 'z245',\n",
              " 'v245',\n",
              " 'x246',\n",
              " 'y246',\n",
              " 'z246',\n",
              " 'v246',\n",
              " 'x247',\n",
              " 'y247',\n",
              " 'z247',\n",
              " 'v247',\n",
              " 'x248',\n",
              " 'y248',\n",
              " 'z248',\n",
              " 'v248',\n",
              " 'x249',\n",
              " 'y249',\n",
              " 'z249',\n",
              " 'v249',\n",
              " 'x250',\n",
              " 'y250',\n",
              " 'z250',\n",
              " ...]"
            ]
          },
          "execution_count": 14,
          "metadata": {},
          "output_type": "execute_result"
        }
      ],
      "source": [
        "landmarks"
      ]
    },
    {
      "cell_type": "code",
      "execution_count": 15,
      "metadata": {
        "id": "8n1CIt3eG2N1"
      },
      "outputs": [],
      "source": [
        "with open('coords.csv', mode='w', newline='') as f:\n",
        "    csv_writer = csv.writer(f, delimiter=',', quotechar='\"', quoting=csv.QUOTE_MINIMAL)\n",
        "    csv_writer.writerow(landmarks)"
      ]
    },
    {
      "cell_type": "code",
      "execution_count": 31,
      "metadata": {
        "id": "KSLXo1LsG2N3"
      },
      "outputs": [],
      "source": [
        "class_name = \"yo\""
      ]
    },
    {
      "cell_type": "code",
      "execution_count": 32,
      "metadata": {
        "id": "aJ6skpdVG2N3"
      },
      "outputs": [],
      "source": [
        "cap = cv2.VideoCapture(0)\n",
        "# Initiate holistic model\n",
        "with mp_holistic.Holistic(min_detection_confidence=0.5, min_tracking_confidence=0.5) as holistic:\n",
        "    \n",
        "    while cap.isOpened():\n",
        "        ret, frame = cap.read()\n",
        "        \n",
        "        # Recolor Feed\n",
        "        image = cv2.cvtColor(frame, cv2.COLOR_BGR2RGB)\n",
        "        image.flags.writeable = False        \n",
        "        \n",
        "        # Make Detections\n",
        "        results = holistic.process(image)\n",
        "        # print(results.face_landmarks)\n",
        "        \n",
        "        # face_landmarks, pose_landmarks, left_hand_landmarks, right_hand_landmarks\n",
        "        \n",
        "        # Recolor image back to BGR for rendering\n",
        "        image.flags.writeable = True   \n",
        "        image = cv2.cvtColor(image, cv2.COLOR_RGB2BGR)\n",
        "        \n",
        "        # 1. Draw face landmarks\n",
        "        mp_drawing.draw_landmarks(image, results.face_landmarks, mp_holistic.FACEMESH_TESSELATION, \n",
        "                                 mp_drawing.DrawingSpec(color=(80,110,10), thickness=1, circle_radius=1),\n",
        "                                 mp_drawing.DrawingSpec(color=(80,256,121), thickness=1, circle_radius=1)\n",
        "                                 )\n",
        "        \n",
        "        # 2. Right hand\n",
        "        mp_drawing.draw_landmarks(image, results.right_hand_landmarks, mp_holistic.HAND_CONNECTIONS, \n",
        "                                 mp_drawing.DrawingSpec(color=(80,22,10), thickness=2, circle_radius=4),\n",
        "                                 mp_drawing.DrawingSpec(color=(80,44,121), thickness=2, circle_radius=2)\n",
        "                                 )\n",
        "\n",
        "        # 3. Left Hand\n",
        "        mp_drawing.draw_landmarks(image, results.left_hand_landmarks, mp_holistic.HAND_CONNECTIONS, \n",
        "                                 mp_drawing.DrawingSpec(color=(121,22,76), thickness=2, circle_radius=4),\n",
        "                                 mp_drawing.DrawingSpec(color=(121,44,250), thickness=2, circle_radius=2)\n",
        "                                 )\n",
        "\n",
        "        # 4. Pose Detections\n",
        "        mp_drawing.draw_landmarks(image, results.pose_landmarks, mp_holistic.POSE_CONNECTIONS, \n",
        "                                 mp_drawing.DrawingSpec(color=(245,117,66), thickness=2, circle_radius=4),\n",
        "                                 mp_drawing.DrawingSpec(color=(245,66,230), thickness=2, circle_radius=2)\n",
        "                                 )\n",
        "        # Export coordinates\n",
        "        try:\n",
        "            # Extract Pose landmarks\n",
        "            pose = results.pose_landmarks.landmark\n",
        "            pose_row = list(np.array([[landmark.x, landmark.y, landmark.z, landmark.visibility] for landmark in pose]).flatten())\n",
        "            \n",
        "            # Extract Face landmarks\n",
        "            face = results.face_landmarks.landmark\n",
        "            face_row = list(np.array([[landmark.x, landmark.y, landmark.z, landmark.visibility] for landmark in face]).flatten())\n",
        "            \n",
        "            # Concate rows\n",
        "            row = pose_row+face_row\n",
        "            \n",
        "            # Append class name \n",
        "            row.insert(0, class_name)\n",
        "            \n",
        "            # Export to CSV\n",
        "            with open('coords.csv', mode='a', newline='') as f:\n",
        "                csv_writer = csv.writer(f, delimiter=',', quotechar='\"', quoting=csv.QUOTE_MINIMAL)\n",
        "                csv_writer.writerow(row) \n",
        "            \n",
        "        except:\n",
        "            pass\n",
        "                        \n",
        "        cv2.imshow('Raw Webcam Feed', image)\n",
        "\n",
        "        if cv2.waitKey(10) & 0xFF == ord('q'):\n",
        "            break\n",
        "\n",
        "cap.release()\n",
        "cv2.destroyAllWindows()"
      ]
    },
    {
      "cell_type": "markdown",
      "metadata": {
        "id": "V9sG3ycfG2N4"
      },
      "source": [
        "# 3. Train Custom Model Using Scikit Learn"
      ]
    },
    {
      "cell_type": "markdown",
      "metadata": {
        "id": "nXJBf85rG2N5"
      },
      "source": [
        "## 3.1 Read in Collected Data and Process"
      ]
    },
    {
      "cell_type": "code",
      "execution_count": 19,
      "metadata": {
        "id": "sDtKcm8yG2N5"
      },
      "outputs": [],
      "source": [
        "import pandas as pd\n",
        "from sklearn.model_selection import train_test_split"
      ]
    },
    {
      "cell_type": "code",
      "execution_count": 33,
      "metadata": {
        "id": "GwizP9RCG2N6"
      },
      "outputs": [],
      "source": [
        "df = pd.read_csv('coords.csv')"
      ]
    },
    {
      "cell_type": "code",
      "execution_count": 34,
      "metadata": {
        "id": "LkoEQWvoG2N6"
      },
      "outputs": [
        {
          "data": {
            "text/html": [
              "<div>\n",
              "<style scoped>\n",
              "    .dataframe tbody tr th:only-of-type {\n",
              "        vertical-align: middle;\n",
              "    }\n",
              "\n",
              "    .dataframe tbody tr th {\n",
              "        vertical-align: top;\n",
              "    }\n",
              "\n",
              "    .dataframe thead th {\n",
              "        text-align: right;\n",
              "    }\n",
              "</style>\n",
              "<table border=\"1\" class=\"dataframe\">\n",
              "  <thead>\n",
              "    <tr style=\"text-align: right;\">\n",
              "      <th></th>\n",
              "      <th>class</th>\n",
              "      <th>x1</th>\n",
              "      <th>y1</th>\n",
              "      <th>z1</th>\n",
              "      <th>v1</th>\n",
              "      <th>x2</th>\n",
              "      <th>y2</th>\n",
              "      <th>z2</th>\n",
              "      <th>v2</th>\n",
              "      <th>x3</th>\n",
              "      <th>...</th>\n",
              "      <th>z499</th>\n",
              "      <th>v499</th>\n",
              "      <th>x500</th>\n",
              "      <th>y500</th>\n",
              "      <th>z500</th>\n",
              "      <th>v500</th>\n",
              "      <th>x501</th>\n",
              "      <th>y501</th>\n",
              "      <th>z501</th>\n",
              "      <th>v501</th>\n",
              "    </tr>\n",
              "  </thead>\n",
              "  <tbody>\n",
              "    <tr>\n",
              "      <th>0</th>\n",
              "      <td>Wakanda Forever</td>\n",
              "      <td>0.526026</td>\n",
              "      <td>0.557348</td>\n",
              "      <td>-1.026280</td>\n",
              "      <td>0.999940</td>\n",
              "      <td>0.555272</td>\n",
              "      <td>0.489677</td>\n",
              "      <td>-0.950022</td>\n",
              "      <td>0.999885</td>\n",
              "      <td>0.573554</td>\n",
              "      <td>...</td>\n",
              "      <td>-0.002127</td>\n",
              "      <td>0.0</td>\n",
              "      <td>0.584913</td>\n",
              "      <td>0.499130</td>\n",
              "      <td>0.018699</td>\n",
              "      <td>0.0</td>\n",
              "      <td>0.590053</td>\n",
              "      <td>0.492921</td>\n",
              "      <td>0.019272</td>\n",
              "      <td>0.0</td>\n",
              "    </tr>\n",
              "    <tr>\n",
              "      <th>1</th>\n",
              "      <td>Wakanda Forever</td>\n",
              "      <td>0.525395</td>\n",
              "      <td>0.559609</td>\n",
              "      <td>-1.146907</td>\n",
              "      <td>0.999908</td>\n",
              "      <td>0.554281</td>\n",
              "      <td>0.491263</td>\n",
              "      <td>-1.071764</td>\n",
              "      <td>0.999819</td>\n",
              "      <td>0.571611</td>\n",
              "      <td>...</td>\n",
              "      <td>-0.002639</td>\n",
              "      <td>0.0</td>\n",
              "      <td>0.585475</td>\n",
              "      <td>0.500015</td>\n",
              "      <td>0.018787</td>\n",
              "      <td>0.0</td>\n",
              "      <td>0.590644</td>\n",
              "      <td>0.493945</td>\n",
              "      <td>0.019390</td>\n",
              "      <td>0.0</td>\n",
              "    </tr>\n",
              "    <tr>\n",
              "      <th>2</th>\n",
              "      <td>Wakanda Forever</td>\n",
              "      <td>0.524086</td>\n",
              "      <td>0.560064</td>\n",
              "      <td>-1.128569</td>\n",
              "      <td>0.999883</td>\n",
              "      <td>0.553097</td>\n",
              "      <td>0.491500</td>\n",
              "      <td>-1.054292</td>\n",
              "      <td>0.999766</td>\n",
              "      <td>0.569944</td>\n",
              "      <td>...</td>\n",
              "      <td>-0.002131</td>\n",
              "      <td>0.0</td>\n",
              "      <td>0.585722</td>\n",
              "      <td>0.499646</td>\n",
              "      <td>0.019642</td>\n",
              "      <td>0.0</td>\n",
              "      <td>0.590848</td>\n",
              "      <td>0.494011</td>\n",
              "      <td>0.020229</td>\n",
              "      <td>0.0</td>\n",
              "    </tr>\n",
              "    <tr>\n",
              "      <th>3</th>\n",
              "      <td>Wakanda Forever</td>\n",
              "      <td>0.523435</td>\n",
              "      <td>0.560185</td>\n",
              "      <td>-1.144721</td>\n",
              "      <td>0.999862</td>\n",
              "      <td>0.552208</td>\n",
              "      <td>0.491501</td>\n",
              "      <td>-1.068487</td>\n",
              "      <td>0.999720</td>\n",
              "      <td>0.568782</td>\n",
              "      <td>...</td>\n",
              "      <td>-0.002281</td>\n",
              "      <td>0.0</td>\n",
              "      <td>0.586938</td>\n",
              "      <td>0.500101</td>\n",
              "      <td>0.019322</td>\n",
              "      <td>0.0</td>\n",
              "      <td>0.592135</td>\n",
              "      <td>0.494080</td>\n",
              "      <td>0.019960</td>\n",
              "      <td>0.0</td>\n",
              "    </tr>\n",
              "    <tr>\n",
              "      <th>4</th>\n",
              "      <td>Wakanda Forever</td>\n",
              "      <td>0.523204</td>\n",
              "      <td>0.559452</td>\n",
              "      <td>-1.176864</td>\n",
              "      <td>0.999845</td>\n",
              "      <td>0.551918</td>\n",
              "      <td>0.490580</td>\n",
              "      <td>-1.100107</td>\n",
              "      <td>0.999686</td>\n",
              "      <td>0.568325</td>\n",
              "      <td>...</td>\n",
              "      <td>-0.002504</td>\n",
              "      <td>0.0</td>\n",
              "      <td>0.587295</td>\n",
              "      <td>0.499170</td>\n",
              "      <td>0.019286</td>\n",
              "      <td>0.0</td>\n",
              "      <td>0.592405</td>\n",
              "      <td>0.493457</td>\n",
              "      <td>0.019914</td>\n",
              "      <td>0.0</td>\n",
              "    </tr>\n",
              "  </tbody>\n",
              "</table>\n",
              "<p>5 rows × 2005 columns</p>\n",
              "</div>"
            ],
            "text/plain": [
              "             class        x1        y1        z1        v1        x2  \\\n",
              "0  Wakanda Forever  0.526026  0.557348 -1.026280  0.999940  0.555272   \n",
              "1  Wakanda Forever  0.525395  0.559609 -1.146907  0.999908  0.554281   \n",
              "2  Wakanda Forever  0.524086  0.560064 -1.128569  0.999883  0.553097   \n",
              "3  Wakanda Forever  0.523435  0.560185 -1.144721  0.999862  0.552208   \n",
              "4  Wakanda Forever  0.523204  0.559452 -1.176864  0.999845  0.551918   \n",
              "\n",
              "         y2        z2        v2        x3  ...      z499  v499      x500  \\\n",
              "0  0.489677 -0.950022  0.999885  0.573554  ... -0.002127   0.0  0.584913   \n",
              "1  0.491263 -1.071764  0.999819  0.571611  ... -0.002639   0.0  0.585475   \n",
              "2  0.491500 -1.054292  0.999766  0.569944  ... -0.002131   0.0  0.585722   \n",
              "3  0.491501 -1.068487  0.999720  0.568782  ... -0.002281   0.0  0.586938   \n",
              "4  0.490580 -1.100107  0.999686  0.568325  ... -0.002504   0.0  0.587295   \n",
              "\n",
              "       y500      z500  v500      x501      y501      z501  v501  \n",
              "0  0.499130  0.018699   0.0  0.590053  0.492921  0.019272   0.0  \n",
              "1  0.500015  0.018787   0.0  0.590644  0.493945  0.019390   0.0  \n",
              "2  0.499646  0.019642   0.0  0.590848  0.494011  0.020229   0.0  \n",
              "3  0.500101  0.019322   0.0  0.592135  0.494080  0.019960   0.0  \n",
              "4  0.499170  0.019286   0.0  0.592405  0.493457  0.019914   0.0  \n",
              "\n",
              "[5 rows x 2005 columns]"
            ]
          },
          "execution_count": 34,
          "metadata": {},
          "output_type": "execute_result"
        }
      ],
      "source": [
        "df.head()"
      ]
    },
    {
      "cell_type": "code",
      "execution_count": 35,
      "metadata": {
        "id": "mYOJ07TzG2N7"
      },
      "outputs": [
        {
          "data": {
            "text/html": [
              "<div>\n",
              "<style scoped>\n",
              "    .dataframe tbody tr th:only-of-type {\n",
              "        vertical-align: middle;\n",
              "    }\n",
              "\n",
              "    .dataframe tbody tr th {\n",
              "        vertical-align: top;\n",
              "    }\n",
              "\n",
              "    .dataframe thead th {\n",
              "        text-align: right;\n",
              "    }\n",
              "</style>\n",
              "<table border=\"1\" class=\"dataframe\">\n",
              "  <thead>\n",
              "    <tr style=\"text-align: right;\">\n",
              "      <th></th>\n",
              "      <th>class</th>\n",
              "      <th>x1</th>\n",
              "      <th>y1</th>\n",
              "      <th>z1</th>\n",
              "      <th>v1</th>\n",
              "      <th>x2</th>\n",
              "      <th>y2</th>\n",
              "      <th>z2</th>\n",
              "      <th>v2</th>\n",
              "      <th>x3</th>\n",
              "      <th>...</th>\n",
              "      <th>z499</th>\n",
              "      <th>v499</th>\n",
              "      <th>x500</th>\n",
              "      <th>y500</th>\n",
              "      <th>z500</th>\n",
              "      <th>v500</th>\n",
              "      <th>x501</th>\n",
              "      <th>y501</th>\n",
              "      <th>z501</th>\n",
              "      <th>v501</th>\n",
              "    </tr>\n",
              "  </thead>\n",
              "  <tbody>\n",
              "    <tr>\n",
              "      <th>268</th>\n",
              "      <td>yo</td>\n",
              "      <td>0.499564</td>\n",
              "      <td>0.387280</td>\n",
              "      <td>-1.162322</td>\n",
              "      <td>0.999903</td>\n",
              "      <td>0.536615</td>\n",
              "      <td>0.314930</td>\n",
              "      <td>-1.103164</td>\n",
              "      <td>0.999813</td>\n",
              "      <td>0.553322</td>\n",
              "      <td>...</td>\n",
              "      <td>-0.007653</td>\n",
              "      <td>0.0</td>\n",
              "      <td>0.579494</td>\n",
              "      <td>0.314660</td>\n",
              "      <td>0.016907</td>\n",
              "      <td>0.0</td>\n",
              "      <td>0.584828</td>\n",
              "      <td>0.310487</td>\n",
              "      <td>0.017398</td>\n",
              "      <td>0.0</td>\n",
              "    </tr>\n",
              "    <tr>\n",
              "      <th>269</th>\n",
              "      <td>yo</td>\n",
              "      <td>0.502512</td>\n",
              "      <td>0.387046</td>\n",
              "      <td>-1.259920</td>\n",
              "      <td>0.999912</td>\n",
              "      <td>0.536821</td>\n",
              "      <td>0.314596</td>\n",
              "      <td>-1.190581</td>\n",
              "      <td>0.999830</td>\n",
              "      <td>0.553102</td>\n",
              "      <td>...</td>\n",
              "      <td>-0.008133</td>\n",
              "      <td>0.0</td>\n",
              "      <td>0.578026</td>\n",
              "      <td>0.314099</td>\n",
              "      <td>0.016814</td>\n",
              "      <td>0.0</td>\n",
              "      <td>0.583400</td>\n",
              "      <td>0.309629</td>\n",
              "      <td>0.017385</td>\n",
              "      <td>0.0</td>\n",
              "    </tr>\n",
              "    <tr>\n",
              "      <th>270</th>\n",
              "      <td>yo</td>\n",
              "      <td>0.498710</td>\n",
              "      <td>0.390566</td>\n",
              "      <td>-1.004525</td>\n",
              "      <td>0.999920</td>\n",
              "      <td>0.531758</td>\n",
              "      <td>0.315136</td>\n",
              "      <td>-0.934138</td>\n",
              "      <td>0.999846</td>\n",
              "      <td>0.548086</td>\n",
              "      <td>...</td>\n",
              "      <td>-0.009727</td>\n",
              "      <td>0.0</td>\n",
              "      <td>0.566471</td>\n",
              "      <td>0.315684</td>\n",
              "      <td>0.013459</td>\n",
              "      <td>0.0</td>\n",
              "      <td>0.571993</td>\n",
              "      <td>0.308927</td>\n",
              "      <td>0.014027</td>\n",
              "      <td>0.0</td>\n",
              "    </tr>\n",
              "    <tr>\n",
              "      <th>271</th>\n",
              "      <td>yo</td>\n",
              "      <td>0.496176</td>\n",
              "      <td>0.392632</td>\n",
              "      <td>-1.167886</td>\n",
              "      <td>0.999911</td>\n",
              "      <td>0.529395</td>\n",
              "      <td>0.315413</td>\n",
              "      <td>-1.105973</td>\n",
              "      <td>0.999837</td>\n",
              "      <td>0.545433</td>\n",
              "      <td>...</td>\n",
              "      <td>-0.009417</td>\n",
              "      <td>0.0</td>\n",
              "      <td>0.569886</td>\n",
              "      <td>0.312770</td>\n",
              "      <td>0.014257</td>\n",
              "      <td>0.0</td>\n",
              "      <td>0.575413</td>\n",
              "      <td>0.305828</td>\n",
              "      <td>0.014972</td>\n",
              "      <td>0.0</td>\n",
              "    </tr>\n",
              "    <tr>\n",
              "      <th>272</th>\n",
              "      <td>yo</td>\n",
              "      <td>0.499506</td>\n",
              "      <td>0.390439</td>\n",
              "      <td>-1.295366</td>\n",
              "      <td>0.999907</td>\n",
              "      <td>0.529742</td>\n",
              "      <td>0.311152</td>\n",
              "      <td>-1.233539</td>\n",
              "      <td>0.999824</td>\n",
              "      <td>0.548049</td>\n",
              "      <td>...</td>\n",
              "      <td>-0.007386</td>\n",
              "      <td>0.0</td>\n",
              "      <td>0.601170</td>\n",
              "      <td>0.288856</td>\n",
              "      <td>0.019673</td>\n",
              "      <td>0.0</td>\n",
              "      <td>0.606527</td>\n",
              "      <td>0.282469</td>\n",
              "      <td>0.020587</td>\n",
              "      <td>0.0</td>\n",
              "    </tr>\n",
              "  </tbody>\n",
              "</table>\n",
              "<p>5 rows × 2005 columns</p>\n",
              "</div>"
            ],
            "text/plain": [
              "    class        x1        y1        z1        v1        x2        y2  \\\n",
              "268    yo  0.499564  0.387280 -1.162322  0.999903  0.536615  0.314930   \n",
              "269    yo  0.502512  0.387046 -1.259920  0.999912  0.536821  0.314596   \n",
              "270    yo  0.498710  0.390566 -1.004525  0.999920  0.531758  0.315136   \n",
              "271    yo  0.496176  0.392632 -1.167886  0.999911  0.529395  0.315413   \n",
              "272    yo  0.499506  0.390439 -1.295366  0.999907  0.529742  0.311152   \n",
              "\n",
              "           z2        v2        x3  ...      z499  v499      x500      y500  \\\n",
              "268 -1.103164  0.999813  0.553322  ... -0.007653   0.0  0.579494  0.314660   \n",
              "269 -1.190581  0.999830  0.553102  ... -0.008133   0.0  0.578026  0.314099   \n",
              "270 -0.934138  0.999846  0.548086  ... -0.009727   0.0  0.566471  0.315684   \n",
              "271 -1.105973  0.999837  0.545433  ... -0.009417   0.0  0.569886  0.312770   \n",
              "272 -1.233539  0.999824  0.548049  ... -0.007386   0.0  0.601170  0.288856   \n",
              "\n",
              "         z500  v500      x501      y501      z501  v501  \n",
              "268  0.016907   0.0  0.584828  0.310487  0.017398   0.0  \n",
              "269  0.016814   0.0  0.583400  0.309629  0.017385   0.0  \n",
              "270  0.013459   0.0  0.571993  0.308927  0.014027   0.0  \n",
              "271  0.014257   0.0  0.575413  0.305828  0.014972   0.0  \n",
              "272  0.019673   0.0  0.606527  0.282469  0.020587   0.0  \n",
              "\n",
              "[5 rows x 2005 columns]"
            ]
          },
          "execution_count": 35,
          "metadata": {},
          "output_type": "execute_result"
        }
      ],
      "source": [
        "df.tail()"
      ]
    },
    {
      "cell_type": "code",
      "execution_count": 36,
      "metadata": {
        "id": "RVEFkJ4RG2N7"
      },
      "outputs": [
        {
          "data": {
            "text/html": [
              "<div>\n",
              "<style scoped>\n",
              "    .dataframe tbody tr th:only-of-type {\n",
              "        vertical-align: middle;\n",
              "    }\n",
              "\n",
              "    .dataframe tbody tr th {\n",
              "        vertical-align: top;\n",
              "    }\n",
              "\n",
              "    .dataframe thead th {\n",
              "        text-align: right;\n",
              "    }\n",
              "</style>\n",
              "<table border=\"1\" class=\"dataframe\">\n",
              "  <thead>\n",
              "    <tr style=\"text-align: right;\">\n",
              "      <th></th>\n",
              "      <th>class</th>\n",
              "      <th>x1</th>\n",
              "      <th>y1</th>\n",
              "      <th>z1</th>\n",
              "      <th>v1</th>\n",
              "      <th>x2</th>\n",
              "      <th>y2</th>\n",
              "      <th>z2</th>\n",
              "      <th>v2</th>\n",
              "      <th>x3</th>\n",
              "      <th>...</th>\n",
              "      <th>z499</th>\n",
              "      <th>v499</th>\n",
              "      <th>x500</th>\n",
              "      <th>y500</th>\n",
              "      <th>z500</th>\n",
              "      <th>v500</th>\n",
              "      <th>x501</th>\n",
              "      <th>y501</th>\n",
              "      <th>z501</th>\n",
              "      <th>v501</th>\n",
              "    </tr>\n",
              "  </thead>\n",
              "  <tbody>\n",
              "  </tbody>\n",
              "</table>\n",
              "<p>0 rows × 2005 columns</p>\n",
              "</div>"
            ],
            "text/plain": [
              "Empty DataFrame\n",
              "Columns: [class, x1, y1, z1, v1, x2, y2, z2, v2, x3, y3, z3, v3, x4, y4, z4, v4, x5, y5, z5, v5, x6, y6, z6, v6, x7, y7, z7, v7, x8, y8, z8, v8, x9, y9, z9, v9, x10, y10, z10, v10, x11, y11, z11, v11, x12, y12, z12, v12, x13, y13, z13, v13, x14, y14, z14, v14, x15, y15, z15, v15, x16, y16, z16, v16, x17, y17, z17, v17, x18, y18, z18, v18, x19, y19, z19, v19, x20, y20, z20, v20, x21, y21, z21, v21, x22, y22, z22, v22, x23, y23, z23, v23, x24, y24, z24, v24, x25, y25, z25, ...]\n",
              "Index: []\n",
              "\n",
              "[0 rows x 2005 columns]"
            ]
          },
          "execution_count": 36,
          "metadata": {},
          "output_type": "execute_result"
        }
      ],
      "source": [
        "df[df['class']=='Sad']"
      ]
    },
    {
      "cell_type": "code",
      "execution_count": 37,
      "metadata": {
        "id": "NHhBHQAEG2N7"
      },
      "outputs": [],
      "source": [
        "X = df.drop('class', axis=1) # features\n",
        "y = df['class'] # target value"
      ]
    },
    {
      "cell_type": "code",
      "execution_count": 38,
      "metadata": {
        "id": "ynG7x-KAG2N8"
      },
      "outputs": [],
      "source": [
        "X_train, X_test, y_train, y_test = train_test_split(X, y, test_size=0.3, random_state=1234)"
      ]
    },
    {
      "cell_type": "code",
      "execution_count": 39,
      "metadata": {
        "id": "2JNXpUqsG2N8"
      },
      "outputs": [
        {
          "data": {
            "text/plain": [
              "101    Wakanda Forever\n",
              "157    Wakanda Forever\n",
              "73     Wakanda Forever\n",
              "6      Wakanda Forever\n",
              "239                 yo\n",
              "            ...       \n",
              "176                 yo\n",
              "210                 yo\n",
              "54     Wakanda Forever\n",
              "155    Wakanda Forever\n",
              "106    Wakanda Forever\n",
              "Name: class, Length: 82, dtype: object"
            ]
          },
          "execution_count": 39,
          "metadata": {},
          "output_type": "execute_result"
        }
      ],
      "source": [
        "y_test"
      ]
    },
    {
      "cell_type": "markdown",
      "metadata": {
        "id": "YLSXDH3KG2N9"
      },
      "source": [
        "## 3.2 Train Machine Learning Classification Model"
      ]
    },
    {
      "cell_type": "code",
      "execution_count": 28,
      "metadata": {
        "id": "4_G4cVuJG2N9"
      },
      "outputs": [],
      "source": [
        "from sklearn.pipeline import make_pipeline \n",
        "from sklearn.preprocessing import StandardScaler \n",
        "\n",
        "from sklearn.linear_model import LogisticRegression, RidgeClassifier\n",
        "from sklearn.ensemble import RandomForestClassifier, GradientBoostingClassifier"
      ]
    },
    {
      "cell_type": "code",
      "execution_count": 40,
      "metadata": {
        "id": "WVzS-JoRG2N-"
      },
      "outputs": [],
      "source": [
        "pipelines = {\n",
        "    'lr':make_pipeline(StandardScaler(), LogisticRegression()),\n",
        "    'rc':make_pipeline(StandardScaler(), RidgeClassifier()),\n",
        "    'rf':make_pipeline(StandardScaler(), RandomForestClassifier()),\n",
        "    'gb':make_pipeline(StandardScaler(), GradientBoostingClassifier()),\n",
        "}"
      ]
    },
    {
      "cell_type": "code",
      "execution_count": 41,
      "metadata": {
        "id": "7rq1MZpXG2N-"
      },
      "outputs": [],
      "source": [
        "fit_models = {}\n",
        "for algo, pipeline in pipelines.items():\n",
        "    model = pipeline.fit(X_train, y_train)\n",
        "    fit_models[algo] = model"
      ]
    },
    {
      "cell_type": "code",
      "execution_count": 42,
      "metadata": {
        "id": "8kdGSb1KG2N-"
      },
      "outputs": [
        {
          "data": {
            "text/plain": [
              "{'lr': Pipeline(steps=[('standardscaler', StandardScaler()),\n",
              "                 ('logisticregression', LogisticRegression())]),\n",
              " 'rc': Pipeline(steps=[('standardscaler', StandardScaler()),\n",
              "                 ('ridgeclassifier', RidgeClassifier())]),\n",
              " 'rf': Pipeline(steps=[('standardscaler', StandardScaler()),\n",
              "                 ('randomforestclassifier', RandomForestClassifier())]),\n",
              " 'gb': Pipeline(steps=[('standardscaler', StandardScaler()),\n",
              "                 ('gradientboostingclassifier', GradientBoostingClassifier())])}"
            ]
          },
          "execution_count": 42,
          "metadata": {},
          "output_type": "execute_result"
        }
      ],
      "source": [
        "fit_models"
      ]
    },
    {
      "cell_type": "code",
      "execution_count": 43,
      "metadata": {
        "id": "473q-5pVG2N_"
      },
      "outputs": [
        {
          "data": {
            "text/plain": [
              "array(['Wakanda Forever', 'Wakanda Forever', 'Wakanda Forever',\n",
              "       'Wakanda Forever', 'yo', 'Wakanda Forever', 'Wakanda Forever',\n",
              "       'Wakanda Forever', 'Wakanda Forever', 'yo', 'yo',\n",
              "       'Wakanda Forever', 'yo', 'Wakanda Forever', 'Wakanda Forever',\n",
              "       'Wakanda Forever', 'Wakanda Forever', 'Wakanda Forever',\n",
              "       'Wakanda Forever', 'yo', 'Wakanda Forever', 'Wakanda Forever',\n",
              "       'yo', 'yo', 'yo', 'Wakanda Forever', 'Wakanda Forever',\n",
              "       'Wakanda Forever', 'Wakanda Forever', 'Wakanda Forever', 'yo',\n",
              "       'Wakanda Forever', 'Wakanda Forever', 'Wakanda Forever', 'yo',\n",
              "       'Wakanda Forever', 'yo', 'yo', 'yo', 'Wakanda Forever',\n",
              "       'Wakanda Forever', 'yo', 'yo', 'Wakanda Forever',\n",
              "       'Wakanda Forever', 'yo', 'yo', 'Wakanda Forever',\n",
              "       'Wakanda Forever', 'Wakanda Forever', 'Wakanda Forever', 'yo',\n",
              "       'yo', 'Wakanda Forever', 'Wakanda Forever', 'Wakanda Forever',\n",
              "       'yo', 'yo', 'yo', 'Wakanda Forever', 'Wakanda Forever', 'yo',\n",
              "       'Wakanda Forever', 'Wakanda Forever', 'yo', 'yo',\n",
              "       'Wakanda Forever', 'Wakanda Forever', 'Wakanda Forever',\n",
              "       'Wakanda Forever', 'Wakanda Forever', 'Wakanda Forever',\n",
              "       'Wakanda Forever', 'Wakanda Forever', 'Wakanda Forever',\n",
              "       'Wakanda Forever', 'yo', 'yo', 'yo', 'Wakanda Forever',\n",
              "       'Wakanda Forever', 'Wakanda Forever'], dtype='<U15')"
            ]
          },
          "execution_count": 43,
          "metadata": {},
          "output_type": "execute_result"
        }
      ],
      "source": [
        "fit_models['rc'].predict(X_test)"
      ]
    },
    {
      "cell_type": "markdown",
      "metadata": {
        "id": "cmgE9D2xG2N_"
      },
      "source": [
        "## 3.3 Evaluate and Serialize Model "
      ]
    },
    {
      "cell_type": "code",
      "execution_count": 44,
      "metadata": {
        "id": "u1up16XgG2OA"
      },
      "outputs": [],
      "source": [
        "from sklearn.metrics import accuracy_score # Accuracy metrics \n",
        "import pickle "
      ]
    },
    {
      "cell_type": "code",
      "execution_count": 45,
      "metadata": {
        "id": "ZoUEWcJQG2OA"
      },
      "outputs": [
        {
          "name": "stdout",
          "output_type": "stream",
          "text": [
            "lr 1.0\n",
            "rc 1.0\n",
            "rf 0.9878048780487805\n",
            "gb 1.0\n"
          ]
        }
      ],
      "source": [
        "for algo, model in fit_models.items():\n",
        "    yhat = model.predict(X_test)\n",
        "    print(algo, accuracy_score(y_test, yhat))"
      ]
    },
    {
      "cell_type": "code",
      "execution_count": 47,
      "metadata": {
        "id": "9vDxXkPYG2OB"
      },
      "outputs": [
        {
          "data": {
            "text/plain": [
              "array(['Wakanda Forever', 'Wakanda Forever', 'Wakanda Forever',\n",
              "       'Wakanda Forever', 'yo', 'Wakanda Forever', 'Wakanda Forever',\n",
              "       'Wakanda Forever', 'Wakanda Forever', 'yo', 'yo',\n",
              "       'Wakanda Forever', 'yo', 'Wakanda Forever', 'Wakanda Forever',\n",
              "       'Wakanda Forever', 'Wakanda Forever', 'Wakanda Forever',\n",
              "       'Wakanda Forever', 'yo', 'Wakanda Forever', 'Wakanda Forever',\n",
              "       'yo', 'yo', 'yo', 'Wakanda Forever', 'Wakanda Forever',\n",
              "       'Wakanda Forever', 'Wakanda Forever', 'Wakanda Forever', 'yo',\n",
              "       'Wakanda Forever', 'Wakanda Forever', 'Wakanda Forever', 'yo',\n",
              "       'Wakanda Forever', 'yo', 'yo', 'yo', 'Wakanda Forever',\n",
              "       'Wakanda Forever', 'yo', 'yo', 'Wakanda Forever',\n",
              "       'Wakanda Forever', 'yo', 'yo', 'Wakanda Forever',\n",
              "       'Wakanda Forever', 'Wakanda Forever', 'Wakanda Forever', 'yo',\n",
              "       'yo', 'Wakanda Forever', 'Wakanda Forever', 'Wakanda Forever',\n",
              "       'yo', 'yo', 'yo', 'Wakanda Forever', 'Wakanda Forever', 'yo',\n",
              "       'Wakanda Forever', 'Wakanda Forever', 'yo', 'yo',\n",
              "       'Wakanda Forever', 'Wakanda Forever', 'Wakanda Forever',\n",
              "       'Wakanda Forever', 'Wakanda Forever', 'Wakanda Forever',\n",
              "       'Wakanda Forever', 'Wakanda Forever', 'Wakanda Forever',\n",
              "       'Wakanda Forever', 'yo', 'Wakanda Forever', 'yo',\n",
              "       'Wakanda Forever', 'Wakanda Forever', 'Wakanda Forever'],\n",
              "      dtype=object)"
            ]
          },
          "execution_count": 47,
          "metadata": {},
          "output_type": "execute_result"
        }
      ],
      "source": [
        "fit_models['rf'].predict(X_test)"
      ]
    },
    {
      "cell_type": "code",
      "execution_count": 48,
      "metadata": {
        "id": "DAvg5y8DG2OC"
      },
      "outputs": [
        {
          "data": {
            "text/plain": [
              "101    Wakanda Forever\n",
              "157    Wakanda Forever\n",
              "73     Wakanda Forever\n",
              "6      Wakanda Forever\n",
              "239                 yo\n",
              "            ...       \n",
              "176                 yo\n",
              "210                 yo\n",
              "54     Wakanda Forever\n",
              "155    Wakanda Forever\n",
              "106    Wakanda Forever\n",
              "Name: class, Length: 82, dtype: object"
            ]
          },
          "execution_count": 48,
          "metadata": {},
          "output_type": "execute_result"
        }
      ],
      "source": [
        "y_test"
      ]
    },
    {
      "cell_type": "code",
      "execution_count": 49,
      "metadata": {
        "id": "MGDR4q6AG2OD"
      },
      "outputs": [],
      "source": [
        "with open('body_language.pkl', 'wb') as f:\n",
        "    pickle.dump(fit_models['rf'], f)"
      ]
    },
    {
      "cell_type": "markdown",
      "metadata": {
        "id": "u2TKTuMeG2OD"
      },
      "source": [
        "# 4. Make Detections with Model"
      ]
    },
    {
      "cell_type": "code",
      "execution_count": 50,
      "metadata": {
        "id": "3LoJfE-tG2OE"
      },
      "outputs": [],
      "source": [
        "with open('body_language.pkl', 'rb') as f:\n",
        "    model = pickle.load(f)"
      ]
    },
    {
      "cell_type": "code",
      "execution_count": 51,
      "metadata": {
        "id": "tugw7bSLG2OE"
      },
      "outputs": [
        {
          "data": {
            "text/html": [
              "<style>#sk-container-id-1 {color: black;background-color: white;}#sk-container-id-1 pre{padding: 0;}#sk-container-id-1 div.sk-toggleable {background-color: white;}#sk-container-id-1 label.sk-toggleable__label {cursor: pointer;display: block;width: 100%;margin-bottom: 0;padding: 0.3em;box-sizing: border-box;text-align: center;}#sk-container-id-1 label.sk-toggleable__label-arrow:before {content: \"▸\";float: left;margin-right: 0.25em;color: #696969;}#sk-container-id-1 label.sk-toggleable__label-arrow:hover:before {color: black;}#sk-container-id-1 div.sk-estimator:hover label.sk-toggleable__label-arrow:before {color: black;}#sk-container-id-1 div.sk-toggleable__content {max-height: 0;max-width: 0;overflow: hidden;text-align: left;background-color: #f0f8ff;}#sk-container-id-1 div.sk-toggleable__content pre {margin: 0.2em;color: black;border-radius: 0.25em;background-color: #f0f8ff;}#sk-container-id-1 input.sk-toggleable__control:checked~div.sk-toggleable__content {max-height: 200px;max-width: 100%;overflow: auto;}#sk-container-id-1 input.sk-toggleable__control:checked~label.sk-toggleable__label-arrow:before {content: \"▾\";}#sk-container-id-1 div.sk-estimator input.sk-toggleable__control:checked~label.sk-toggleable__label {background-color: #d4ebff;}#sk-container-id-1 div.sk-label input.sk-toggleable__control:checked~label.sk-toggleable__label {background-color: #d4ebff;}#sk-container-id-1 input.sk-hidden--visually {border: 0;clip: rect(1px 1px 1px 1px);clip: rect(1px, 1px, 1px, 1px);height: 1px;margin: -1px;overflow: hidden;padding: 0;position: absolute;width: 1px;}#sk-container-id-1 div.sk-estimator {font-family: monospace;background-color: #f0f8ff;border: 1px dotted black;border-radius: 0.25em;box-sizing: border-box;margin-bottom: 0.5em;}#sk-container-id-1 div.sk-estimator:hover {background-color: #d4ebff;}#sk-container-id-1 div.sk-parallel-item::after {content: \"\";width: 100%;border-bottom: 1px solid gray;flex-grow: 1;}#sk-container-id-1 div.sk-label:hover label.sk-toggleable__label {background-color: #d4ebff;}#sk-container-id-1 div.sk-serial::before {content: \"\";position: absolute;border-left: 1px solid gray;box-sizing: border-box;top: 0;bottom: 0;left: 50%;z-index: 0;}#sk-container-id-1 div.sk-serial {display: flex;flex-direction: column;align-items: center;background-color: white;padding-right: 0.2em;padding-left: 0.2em;position: relative;}#sk-container-id-1 div.sk-item {position: relative;z-index: 1;}#sk-container-id-1 div.sk-parallel {display: flex;align-items: stretch;justify-content: center;background-color: white;position: relative;}#sk-container-id-1 div.sk-item::before, #sk-container-id-1 div.sk-parallel-item::before {content: \"\";position: absolute;border-left: 1px solid gray;box-sizing: border-box;top: 0;bottom: 0;left: 50%;z-index: -1;}#sk-container-id-1 div.sk-parallel-item {display: flex;flex-direction: column;z-index: 1;position: relative;background-color: white;}#sk-container-id-1 div.sk-parallel-item:first-child::after {align-self: flex-end;width: 50%;}#sk-container-id-1 div.sk-parallel-item:last-child::after {align-self: flex-start;width: 50%;}#sk-container-id-1 div.sk-parallel-item:only-child::after {width: 0;}#sk-container-id-1 div.sk-dashed-wrapped {border: 1px dashed gray;margin: 0 0.4em 0.5em 0.4em;box-sizing: border-box;padding-bottom: 0.4em;background-color: white;}#sk-container-id-1 div.sk-label label {font-family: monospace;font-weight: bold;display: inline-block;line-height: 1.2em;}#sk-container-id-1 div.sk-label-container {text-align: center;}#sk-container-id-1 div.sk-container {/* jupyter's `normalize.less` sets `[hidden] { display: none; }` but bootstrap.min.css set `[hidden] { display: none !important; }` so we also need the `!important` here to be able to override the default hidden behavior on the sphinx rendered scikit-learn.org. See: https://github.com/scikit-learn/scikit-learn/issues/21755 */display: inline-block !important;position: relative;}#sk-container-id-1 div.sk-text-repr-fallback {display: none;}</style><div id=\"sk-container-id-1\" class=\"sk-top-container\"><div class=\"sk-text-repr-fallback\"><pre>Pipeline(steps=[(&#x27;standardscaler&#x27;, StandardScaler()),\n",
              "                (&#x27;randomforestclassifier&#x27;, RandomForestClassifier())])</pre><b>In a Jupyter environment, please rerun this cell to show the HTML representation or trust the notebook. <br />On GitHub, the HTML representation is unable to render, please try loading this page with nbviewer.org.</b></div><div class=\"sk-container\" hidden><div class=\"sk-item sk-dashed-wrapped\"><div class=\"sk-label-container\"><div class=\"sk-label sk-toggleable\"><input class=\"sk-toggleable__control sk-hidden--visually\" id=\"sk-estimator-id-1\" type=\"checkbox\" ><label for=\"sk-estimator-id-1\" class=\"sk-toggleable__label sk-toggleable__label-arrow\">Pipeline</label><div class=\"sk-toggleable__content\"><pre>Pipeline(steps=[(&#x27;standardscaler&#x27;, StandardScaler()),\n",
              "                (&#x27;randomforestclassifier&#x27;, RandomForestClassifier())])</pre></div></div></div><div class=\"sk-serial\"><div class=\"sk-item\"><div class=\"sk-estimator sk-toggleable\"><input class=\"sk-toggleable__control sk-hidden--visually\" id=\"sk-estimator-id-2\" type=\"checkbox\" ><label for=\"sk-estimator-id-2\" class=\"sk-toggleable__label sk-toggleable__label-arrow\">StandardScaler</label><div class=\"sk-toggleable__content\"><pre>StandardScaler()</pre></div></div></div><div class=\"sk-item\"><div class=\"sk-estimator sk-toggleable\"><input class=\"sk-toggleable__control sk-hidden--visually\" id=\"sk-estimator-id-3\" type=\"checkbox\" ><label for=\"sk-estimator-id-3\" class=\"sk-toggleable__label sk-toggleable__label-arrow\">RandomForestClassifier</label><div class=\"sk-toggleable__content\"><pre>RandomForestClassifier()</pre></div></div></div></div></div></div></div>"
            ],
            "text/plain": [
              "Pipeline(steps=[('standardscaler', StandardScaler()),\n",
              "                ('randomforestclassifier', RandomForestClassifier())])"
            ]
          },
          "execution_count": 51,
          "metadata": {},
          "output_type": "execute_result"
        }
      ],
      "source": [
        "model"
      ]
    },
    {
      "cell_type": "code",
      "execution_count": 53,
      "metadata": {
        "id": "NExlSN0YG2OF"
      },
      "outputs": [
        {
          "name": "stderr",
          "output_type": "stream",
          "text": [
            "C:\\Users\\hp\\AppData\\Local\\Packages\\PythonSoftwareFoundation.Python.3.9_qbz5n2kfra8p0\\LocalCache\\local-packages\\Python39\\site-packages\\sklearn\\base.py:450: UserWarning: X does not have valid feature names, but StandardScaler was fitted with feature names\n",
            "  warnings.warn(\n",
            "C:\\Users\\hp\\AppData\\Local\\Packages\\PythonSoftwareFoundation.Python.3.9_qbz5n2kfra8p0\\LocalCache\\local-packages\\Python39\\site-packages\\sklearn\\base.py:450: UserWarning: X does not have valid feature names, but StandardScaler was fitted with feature names\n",
            "  warnings.warn(\n"
          ]
        },
        {
          "name": "stdout",
          "output_type": "stream",
          "text": [
            "yo [0.25 0.75]\n"
          ]
        },
        {
          "name": "stderr",
          "output_type": "stream",
          "text": [
            "C:\\Users\\hp\\AppData\\Local\\Packages\\PythonSoftwareFoundation.Python.3.9_qbz5n2kfra8p0\\LocalCache\\local-packages\\Python39\\site-packages\\sklearn\\base.py:450: UserWarning: X does not have valid feature names, but StandardScaler was fitted with feature names\n",
            "  warnings.warn(\n",
            "C:\\Users\\hp\\AppData\\Local\\Packages\\PythonSoftwareFoundation.Python.3.9_qbz5n2kfra8p0\\LocalCache\\local-packages\\Python39\\site-packages\\sklearn\\base.py:450: UserWarning: X does not have valid feature names, but StandardScaler was fitted with feature names\n",
            "  warnings.warn(\n"
          ]
        },
        {
          "name": "stdout",
          "output_type": "stream",
          "text": [
            "yo [0.23 0.77]\n"
          ]
        },
        {
          "name": "stderr",
          "output_type": "stream",
          "text": [
            "C:\\Users\\hp\\AppData\\Local\\Packages\\PythonSoftwareFoundation.Python.3.9_qbz5n2kfra8p0\\LocalCache\\local-packages\\Python39\\site-packages\\sklearn\\base.py:450: UserWarning: X does not have valid feature names, but StandardScaler was fitted with feature names\n",
            "  warnings.warn(\n",
            "C:\\Users\\hp\\AppData\\Local\\Packages\\PythonSoftwareFoundation.Python.3.9_qbz5n2kfra8p0\\LocalCache\\local-packages\\Python39\\site-packages\\sklearn\\base.py:450: UserWarning: X does not have valid feature names, but StandardScaler was fitted with feature names\n",
            "  warnings.warn(\n"
          ]
        },
        {
          "name": "stdout",
          "output_type": "stream",
          "text": [
            "yo [0.05 0.95]\n"
          ]
        },
        {
          "name": "stderr",
          "output_type": "stream",
          "text": [
            "C:\\Users\\hp\\AppData\\Local\\Packages\\PythonSoftwareFoundation.Python.3.9_qbz5n2kfra8p0\\LocalCache\\local-packages\\Python39\\site-packages\\sklearn\\base.py:450: UserWarning: X does not have valid feature names, but StandardScaler was fitted with feature names\n",
            "  warnings.warn(\n",
            "C:\\Users\\hp\\AppData\\Local\\Packages\\PythonSoftwareFoundation.Python.3.9_qbz5n2kfra8p0\\LocalCache\\local-packages\\Python39\\site-packages\\sklearn\\base.py:450: UserWarning: X does not have valid feature names, but StandardScaler was fitted with feature names\n",
            "  warnings.warn(\n"
          ]
        },
        {
          "name": "stdout",
          "output_type": "stream",
          "text": [
            "yo [0.26 0.74]\n"
          ]
        },
        {
          "name": "stderr",
          "output_type": "stream",
          "text": [
            "C:\\Users\\hp\\AppData\\Local\\Packages\\PythonSoftwareFoundation.Python.3.9_qbz5n2kfra8p0\\LocalCache\\local-packages\\Python39\\site-packages\\sklearn\\base.py:450: UserWarning: X does not have valid feature names, but StandardScaler was fitted with feature names\n",
            "  warnings.warn(\n",
            "C:\\Users\\hp\\AppData\\Local\\Packages\\PythonSoftwareFoundation.Python.3.9_qbz5n2kfra8p0\\LocalCache\\local-packages\\Python39\\site-packages\\sklearn\\base.py:450: UserWarning: X does not have valid feature names, but StandardScaler was fitted with feature names\n",
            "  warnings.warn(\n"
          ]
        },
        {
          "name": "stdout",
          "output_type": "stream",
          "text": [
            "yo [0.06 0.94]\n"
          ]
        },
        {
          "name": "stderr",
          "output_type": "stream",
          "text": [
            "C:\\Users\\hp\\AppData\\Local\\Packages\\PythonSoftwareFoundation.Python.3.9_qbz5n2kfra8p0\\LocalCache\\local-packages\\Python39\\site-packages\\sklearn\\base.py:450: UserWarning: X does not have valid feature names, but StandardScaler was fitted with feature names\n",
            "  warnings.warn(\n",
            "C:\\Users\\hp\\AppData\\Local\\Packages\\PythonSoftwareFoundation.Python.3.9_qbz5n2kfra8p0\\LocalCache\\local-packages\\Python39\\site-packages\\sklearn\\base.py:450: UserWarning: X does not have valid feature names, but StandardScaler was fitted with feature names\n",
            "  warnings.warn(\n"
          ]
        },
        {
          "name": "stdout",
          "output_type": "stream",
          "text": [
            "yo [0.06 0.94]\n"
          ]
        },
        {
          "name": "stderr",
          "output_type": "stream",
          "text": [
            "C:\\Users\\hp\\AppData\\Local\\Packages\\PythonSoftwareFoundation.Python.3.9_qbz5n2kfra8p0\\LocalCache\\local-packages\\Python39\\site-packages\\sklearn\\base.py:450: UserWarning: X does not have valid feature names, but StandardScaler was fitted with feature names\n",
            "  warnings.warn(\n",
            "C:\\Users\\hp\\AppData\\Local\\Packages\\PythonSoftwareFoundation.Python.3.9_qbz5n2kfra8p0\\LocalCache\\local-packages\\Python39\\site-packages\\sklearn\\base.py:450: UserWarning: X does not have valid feature names, but StandardScaler was fitted with feature names\n",
            "  warnings.warn(\n"
          ]
        },
        {
          "name": "stdout",
          "output_type": "stream",
          "text": [
            "yo [0.05 0.95]\n"
          ]
        },
        {
          "name": "stderr",
          "output_type": "stream",
          "text": [
            "C:\\Users\\hp\\AppData\\Local\\Packages\\PythonSoftwareFoundation.Python.3.9_qbz5n2kfra8p0\\LocalCache\\local-packages\\Python39\\site-packages\\sklearn\\base.py:450: UserWarning: X does not have valid feature names, but StandardScaler was fitted with feature names\n",
            "  warnings.warn(\n",
            "C:\\Users\\hp\\AppData\\Local\\Packages\\PythonSoftwareFoundation.Python.3.9_qbz5n2kfra8p0\\LocalCache\\local-packages\\Python39\\site-packages\\sklearn\\base.py:450: UserWarning: X does not have valid feature names, but StandardScaler was fitted with feature names\n",
            "  warnings.warn(\n"
          ]
        },
        {
          "name": "stdout",
          "output_type": "stream",
          "text": [
            "yo [0.02 0.98]\n"
          ]
        },
        {
          "name": "stderr",
          "output_type": "stream",
          "text": [
            "C:\\Users\\hp\\AppData\\Local\\Packages\\PythonSoftwareFoundation.Python.3.9_qbz5n2kfra8p0\\LocalCache\\local-packages\\Python39\\site-packages\\sklearn\\base.py:450: UserWarning: X does not have valid feature names, but StandardScaler was fitted with feature names\n",
            "  warnings.warn(\n",
            "C:\\Users\\hp\\AppData\\Local\\Packages\\PythonSoftwareFoundation.Python.3.9_qbz5n2kfra8p0\\LocalCache\\local-packages\\Python39\\site-packages\\sklearn\\base.py:450: UserWarning: X does not have valid feature names, but StandardScaler was fitted with feature names\n",
            "  warnings.warn(\n"
          ]
        },
        {
          "name": "stdout",
          "output_type": "stream",
          "text": [
            "yo [0.02 0.98]\n"
          ]
        },
        {
          "name": "stderr",
          "output_type": "stream",
          "text": [
            "C:\\Users\\hp\\AppData\\Local\\Packages\\PythonSoftwareFoundation.Python.3.9_qbz5n2kfra8p0\\LocalCache\\local-packages\\Python39\\site-packages\\sklearn\\base.py:450: UserWarning: X does not have valid feature names, but StandardScaler was fitted with feature names\n",
            "  warnings.warn(\n",
            "C:\\Users\\hp\\AppData\\Local\\Packages\\PythonSoftwareFoundation.Python.3.9_qbz5n2kfra8p0\\LocalCache\\local-packages\\Python39\\site-packages\\sklearn\\base.py:450: UserWarning: X does not have valid feature names, but StandardScaler was fitted with feature names\n",
            "  warnings.warn(\n"
          ]
        },
        {
          "name": "stdout",
          "output_type": "stream",
          "text": [
            "yo [0.02 0.98]\n"
          ]
        },
        {
          "name": "stderr",
          "output_type": "stream",
          "text": [
            "C:\\Users\\hp\\AppData\\Local\\Packages\\PythonSoftwareFoundation.Python.3.9_qbz5n2kfra8p0\\LocalCache\\local-packages\\Python39\\site-packages\\sklearn\\base.py:450: UserWarning: X does not have valid feature names, but StandardScaler was fitted with feature names\n",
            "  warnings.warn(\n",
            "C:\\Users\\hp\\AppData\\Local\\Packages\\PythonSoftwareFoundation.Python.3.9_qbz5n2kfra8p0\\LocalCache\\local-packages\\Python39\\site-packages\\sklearn\\base.py:450: UserWarning: X does not have valid feature names, but StandardScaler was fitted with feature names\n",
            "  warnings.warn(\n"
          ]
        },
        {
          "name": "stdout",
          "output_type": "stream",
          "text": [
            "yo [0.02 0.98]\n"
          ]
        },
        {
          "name": "stderr",
          "output_type": "stream",
          "text": [
            "C:\\Users\\hp\\AppData\\Local\\Packages\\PythonSoftwareFoundation.Python.3.9_qbz5n2kfra8p0\\LocalCache\\local-packages\\Python39\\site-packages\\sklearn\\base.py:450: UserWarning: X does not have valid feature names, but StandardScaler was fitted with feature names\n",
            "  warnings.warn(\n",
            "C:\\Users\\hp\\AppData\\Local\\Packages\\PythonSoftwareFoundation.Python.3.9_qbz5n2kfra8p0\\LocalCache\\local-packages\\Python39\\site-packages\\sklearn\\base.py:450: UserWarning: X does not have valid feature names, but StandardScaler was fitted with feature names\n",
            "  warnings.warn(\n"
          ]
        },
        {
          "name": "stdout",
          "output_type": "stream",
          "text": [
            "yo [0.02 0.98]\n"
          ]
        },
        {
          "name": "stderr",
          "output_type": "stream",
          "text": [
            "C:\\Users\\hp\\AppData\\Local\\Packages\\PythonSoftwareFoundation.Python.3.9_qbz5n2kfra8p0\\LocalCache\\local-packages\\Python39\\site-packages\\sklearn\\base.py:450: UserWarning: X does not have valid feature names, but StandardScaler was fitted with feature names\n",
            "  warnings.warn(\n",
            "C:\\Users\\hp\\AppData\\Local\\Packages\\PythonSoftwareFoundation.Python.3.9_qbz5n2kfra8p0\\LocalCache\\local-packages\\Python39\\site-packages\\sklearn\\base.py:450: UserWarning: X does not have valid feature names, but StandardScaler was fitted with feature names\n",
            "  warnings.warn(\n"
          ]
        },
        {
          "name": "stdout",
          "output_type": "stream",
          "text": [
            "yo [0.01 0.99]\n"
          ]
        },
        {
          "name": "stderr",
          "output_type": "stream",
          "text": [
            "C:\\Users\\hp\\AppData\\Local\\Packages\\PythonSoftwareFoundation.Python.3.9_qbz5n2kfra8p0\\LocalCache\\local-packages\\Python39\\site-packages\\sklearn\\base.py:450: UserWarning: X does not have valid feature names, but StandardScaler was fitted with feature names\n",
            "  warnings.warn(\n",
            "C:\\Users\\hp\\AppData\\Local\\Packages\\PythonSoftwareFoundation.Python.3.9_qbz5n2kfra8p0\\LocalCache\\local-packages\\Python39\\site-packages\\sklearn\\base.py:450: UserWarning: X does not have valid feature names, but StandardScaler was fitted with feature names\n",
            "  warnings.warn(\n"
          ]
        },
        {
          "name": "stdout",
          "output_type": "stream",
          "text": [
            "yo [0.01 0.99]\n"
          ]
        },
        {
          "name": "stderr",
          "output_type": "stream",
          "text": [
            "C:\\Users\\hp\\AppData\\Local\\Packages\\PythonSoftwareFoundation.Python.3.9_qbz5n2kfra8p0\\LocalCache\\local-packages\\Python39\\site-packages\\sklearn\\base.py:450: UserWarning: X does not have valid feature names, but StandardScaler was fitted with feature names\n",
            "  warnings.warn(\n",
            "C:\\Users\\hp\\AppData\\Local\\Packages\\PythonSoftwareFoundation.Python.3.9_qbz5n2kfra8p0\\LocalCache\\local-packages\\Python39\\site-packages\\sklearn\\base.py:450: UserWarning: X does not have valid feature names, but StandardScaler was fitted with feature names\n",
            "  warnings.warn(\n"
          ]
        },
        {
          "name": "stdout",
          "output_type": "stream",
          "text": [
            "yo [0. 1.]\n"
          ]
        },
        {
          "name": "stderr",
          "output_type": "stream",
          "text": [
            "C:\\Users\\hp\\AppData\\Local\\Packages\\PythonSoftwareFoundation.Python.3.9_qbz5n2kfra8p0\\LocalCache\\local-packages\\Python39\\site-packages\\sklearn\\base.py:450: UserWarning: X does not have valid feature names, but StandardScaler was fitted with feature names\n",
            "  warnings.warn(\n",
            "C:\\Users\\hp\\AppData\\Local\\Packages\\PythonSoftwareFoundation.Python.3.9_qbz5n2kfra8p0\\LocalCache\\local-packages\\Python39\\site-packages\\sklearn\\base.py:450: UserWarning: X does not have valid feature names, but StandardScaler was fitted with feature names\n",
            "  warnings.warn(\n"
          ]
        },
        {
          "name": "stdout",
          "output_type": "stream",
          "text": [
            "yo [0. 1.]\n"
          ]
        },
        {
          "name": "stderr",
          "output_type": "stream",
          "text": [
            "C:\\Users\\hp\\AppData\\Local\\Packages\\PythonSoftwareFoundation.Python.3.9_qbz5n2kfra8p0\\LocalCache\\local-packages\\Python39\\site-packages\\sklearn\\base.py:450: UserWarning: X does not have valid feature names, but StandardScaler was fitted with feature names\n",
            "  warnings.warn(\n",
            "C:\\Users\\hp\\AppData\\Local\\Packages\\PythonSoftwareFoundation.Python.3.9_qbz5n2kfra8p0\\LocalCache\\local-packages\\Python39\\site-packages\\sklearn\\base.py:450: UserWarning: X does not have valid feature names, but StandardScaler was fitted with feature names\n",
            "  warnings.warn(\n"
          ]
        },
        {
          "name": "stdout",
          "output_type": "stream",
          "text": [
            "yo [0. 1.]\n"
          ]
        },
        {
          "name": "stderr",
          "output_type": "stream",
          "text": [
            "C:\\Users\\hp\\AppData\\Local\\Packages\\PythonSoftwareFoundation.Python.3.9_qbz5n2kfra8p0\\LocalCache\\local-packages\\Python39\\site-packages\\sklearn\\base.py:450: UserWarning: X does not have valid feature names, but StandardScaler was fitted with feature names\n",
            "  warnings.warn(\n",
            "C:\\Users\\hp\\AppData\\Local\\Packages\\PythonSoftwareFoundation.Python.3.9_qbz5n2kfra8p0\\LocalCache\\local-packages\\Python39\\site-packages\\sklearn\\base.py:450: UserWarning: X does not have valid feature names, but StandardScaler was fitted with feature names\n",
            "  warnings.warn(\n"
          ]
        },
        {
          "name": "stdout",
          "output_type": "stream",
          "text": [
            "Wakanda Forever [0.83 0.17]\n"
          ]
        },
        {
          "name": "stderr",
          "output_type": "stream",
          "text": [
            "C:\\Users\\hp\\AppData\\Local\\Packages\\PythonSoftwareFoundation.Python.3.9_qbz5n2kfra8p0\\LocalCache\\local-packages\\Python39\\site-packages\\sklearn\\base.py:450: UserWarning: X does not have valid feature names, but StandardScaler was fitted with feature names\n",
            "  warnings.warn(\n",
            "C:\\Users\\hp\\AppData\\Local\\Packages\\PythonSoftwareFoundation.Python.3.9_qbz5n2kfra8p0\\LocalCache\\local-packages\\Python39\\site-packages\\sklearn\\base.py:450: UserWarning: X does not have valid feature names, but StandardScaler was fitted with feature names\n",
            "  warnings.warn(\n"
          ]
        },
        {
          "name": "stdout",
          "output_type": "stream",
          "text": [
            "Wakanda Forever [0.93 0.07]\n"
          ]
        },
        {
          "name": "stderr",
          "output_type": "stream",
          "text": [
            "C:\\Users\\hp\\AppData\\Local\\Packages\\PythonSoftwareFoundation.Python.3.9_qbz5n2kfra8p0\\LocalCache\\local-packages\\Python39\\site-packages\\sklearn\\base.py:450: UserWarning: X does not have valid feature names, but StandardScaler was fitted with feature names\n",
            "  warnings.warn(\n",
            "C:\\Users\\hp\\AppData\\Local\\Packages\\PythonSoftwareFoundation.Python.3.9_qbz5n2kfra8p0\\LocalCache\\local-packages\\Python39\\site-packages\\sklearn\\base.py:450: UserWarning: X does not have valid feature names, but StandardScaler was fitted with feature names\n",
            "  warnings.warn(\n"
          ]
        },
        {
          "name": "stdout",
          "output_type": "stream",
          "text": [
            "Wakanda Forever [0.95 0.05]\n"
          ]
        },
        {
          "name": "stderr",
          "output_type": "stream",
          "text": [
            "C:\\Users\\hp\\AppData\\Local\\Packages\\PythonSoftwareFoundation.Python.3.9_qbz5n2kfra8p0\\LocalCache\\local-packages\\Python39\\site-packages\\sklearn\\base.py:450: UserWarning: X does not have valid feature names, but StandardScaler was fitted with feature names\n",
            "  warnings.warn(\n",
            "C:\\Users\\hp\\AppData\\Local\\Packages\\PythonSoftwareFoundation.Python.3.9_qbz5n2kfra8p0\\LocalCache\\local-packages\\Python39\\site-packages\\sklearn\\base.py:450: UserWarning: X does not have valid feature names, but StandardScaler was fitted with feature names\n",
            "  warnings.warn(\n"
          ]
        },
        {
          "name": "stdout",
          "output_type": "stream",
          "text": [
            "Wakanda Forever [0.9 0.1]\n"
          ]
        },
        {
          "name": "stderr",
          "output_type": "stream",
          "text": [
            "C:\\Users\\hp\\AppData\\Local\\Packages\\PythonSoftwareFoundation.Python.3.9_qbz5n2kfra8p0\\LocalCache\\local-packages\\Python39\\site-packages\\sklearn\\base.py:450: UserWarning: X does not have valid feature names, but StandardScaler was fitted with feature names\n",
            "  warnings.warn(\n",
            "C:\\Users\\hp\\AppData\\Local\\Packages\\PythonSoftwareFoundation.Python.3.9_qbz5n2kfra8p0\\LocalCache\\local-packages\\Python39\\site-packages\\sklearn\\base.py:450: UserWarning: X does not have valid feature names, but StandardScaler was fitted with feature names\n",
            "  warnings.warn(\n"
          ]
        },
        {
          "name": "stdout",
          "output_type": "stream",
          "text": [
            "Wakanda Forever [0.88 0.12]\n"
          ]
        },
        {
          "name": "stderr",
          "output_type": "stream",
          "text": [
            "C:\\Users\\hp\\AppData\\Local\\Packages\\PythonSoftwareFoundation.Python.3.9_qbz5n2kfra8p0\\LocalCache\\local-packages\\Python39\\site-packages\\sklearn\\base.py:450: UserWarning: X does not have valid feature names, but StandardScaler was fitted with feature names\n",
            "  warnings.warn(\n",
            "C:\\Users\\hp\\AppData\\Local\\Packages\\PythonSoftwareFoundation.Python.3.9_qbz5n2kfra8p0\\LocalCache\\local-packages\\Python39\\site-packages\\sklearn\\base.py:450: UserWarning: X does not have valid feature names, but StandardScaler was fitted with feature names\n",
            "  warnings.warn(\n"
          ]
        },
        {
          "name": "stdout",
          "output_type": "stream",
          "text": [
            "Wakanda Forever [0.87 0.13]\n"
          ]
        },
        {
          "name": "stderr",
          "output_type": "stream",
          "text": [
            "C:\\Users\\hp\\AppData\\Local\\Packages\\PythonSoftwareFoundation.Python.3.9_qbz5n2kfra8p0\\LocalCache\\local-packages\\Python39\\site-packages\\sklearn\\base.py:450: UserWarning: X does not have valid feature names, but StandardScaler was fitted with feature names\n",
            "  warnings.warn(\n",
            "C:\\Users\\hp\\AppData\\Local\\Packages\\PythonSoftwareFoundation.Python.3.9_qbz5n2kfra8p0\\LocalCache\\local-packages\\Python39\\site-packages\\sklearn\\base.py:450: UserWarning: X does not have valid feature names, but StandardScaler was fitted with feature names\n",
            "  warnings.warn(\n"
          ]
        },
        {
          "name": "stdout",
          "output_type": "stream",
          "text": [
            "Wakanda Forever [0.82 0.18]\n"
          ]
        },
        {
          "name": "stderr",
          "output_type": "stream",
          "text": [
            "C:\\Users\\hp\\AppData\\Local\\Packages\\PythonSoftwareFoundation.Python.3.9_qbz5n2kfra8p0\\LocalCache\\local-packages\\Python39\\site-packages\\sklearn\\base.py:450: UserWarning: X does not have valid feature names, but StandardScaler was fitted with feature names\n",
            "  warnings.warn(\n",
            "C:\\Users\\hp\\AppData\\Local\\Packages\\PythonSoftwareFoundation.Python.3.9_qbz5n2kfra8p0\\LocalCache\\local-packages\\Python39\\site-packages\\sklearn\\base.py:450: UserWarning: X does not have valid feature names, but StandardScaler was fitted with feature names\n",
            "  warnings.warn(\n"
          ]
        },
        {
          "name": "stdout",
          "output_type": "stream",
          "text": [
            "yo [0.41 0.59]\n"
          ]
        },
        {
          "name": "stderr",
          "output_type": "stream",
          "text": [
            "C:\\Users\\hp\\AppData\\Local\\Packages\\PythonSoftwareFoundation.Python.3.9_qbz5n2kfra8p0\\LocalCache\\local-packages\\Python39\\site-packages\\sklearn\\base.py:450: UserWarning: X does not have valid feature names, but StandardScaler was fitted with feature names\n",
            "  warnings.warn(\n",
            "C:\\Users\\hp\\AppData\\Local\\Packages\\PythonSoftwareFoundation.Python.3.9_qbz5n2kfra8p0\\LocalCache\\local-packages\\Python39\\site-packages\\sklearn\\base.py:450: UserWarning: X does not have valid feature names, but StandardScaler was fitted with feature names\n",
            "  warnings.warn(\n"
          ]
        },
        {
          "name": "stdout",
          "output_type": "stream",
          "text": [
            "Wakanda Forever [0.73 0.27]\n"
          ]
        },
        {
          "name": "stderr",
          "output_type": "stream",
          "text": [
            "C:\\Users\\hp\\AppData\\Local\\Packages\\PythonSoftwareFoundation.Python.3.9_qbz5n2kfra8p0\\LocalCache\\local-packages\\Python39\\site-packages\\sklearn\\base.py:450: UserWarning: X does not have valid feature names, but StandardScaler was fitted with feature names\n",
            "  warnings.warn(\n",
            "C:\\Users\\hp\\AppData\\Local\\Packages\\PythonSoftwareFoundation.Python.3.9_qbz5n2kfra8p0\\LocalCache\\local-packages\\Python39\\site-packages\\sklearn\\base.py:450: UserWarning: X does not have valid feature names, but StandardScaler was fitted with feature names\n",
            "  warnings.warn(\n"
          ]
        },
        {
          "name": "stdout",
          "output_type": "stream",
          "text": [
            "Wakanda Forever [0.58 0.42]\n"
          ]
        },
        {
          "name": "stderr",
          "output_type": "stream",
          "text": [
            "C:\\Users\\hp\\AppData\\Local\\Packages\\PythonSoftwareFoundation.Python.3.9_qbz5n2kfra8p0\\LocalCache\\local-packages\\Python39\\site-packages\\sklearn\\base.py:450: UserWarning: X does not have valid feature names, but StandardScaler was fitted with feature names\n",
            "  warnings.warn(\n",
            "C:\\Users\\hp\\AppData\\Local\\Packages\\PythonSoftwareFoundation.Python.3.9_qbz5n2kfra8p0\\LocalCache\\local-packages\\Python39\\site-packages\\sklearn\\base.py:450: UserWarning: X does not have valid feature names, but StandardScaler was fitted with feature names\n",
            "  warnings.warn(\n"
          ]
        },
        {
          "name": "stdout",
          "output_type": "stream",
          "text": [
            "yo [0.46 0.54]\n"
          ]
        },
        {
          "name": "stderr",
          "output_type": "stream",
          "text": [
            "C:\\Users\\hp\\AppData\\Local\\Packages\\PythonSoftwareFoundation.Python.3.9_qbz5n2kfra8p0\\LocalCache\\local-packages\\Python39\\site-packages\\sklearn\\base.py:450: UserWarning: X does not have valid feature names, but StandardScaler was fitted with feature names\n",
            "  warnings.warn(\n",
            "C:\\Users\\hp\\AppData\\Local\\Packages\\PythonSoftwareFoundation.Python.3.9_qbz5n2kfra8p0\\LocalCache\\local-packages\\Python39\\site-packages\\sklearn\\base.py:450: UserWarning: X does not have valid feature names, but StandardScaler was fitted with feature names\n",
            "  warnings.warn(\n"
          ]
        },
        {
          "name": "stdout",
          "output_type": "stream",
          "text": [
            "yo [0.35 0.65]\n"
          ]
        },
        {
          "name": "stderr",
          "output_type": "stream",
          "text": [
            "C:\\Users\\hp\\AppData\\Local\\Packages\\PythonSoftwareFoundation.Python.3.9_qbz5n2kfra8p0\\LocalCache\\local-packages\\Python39\\site-packages\\sklearn\\base.py:450: UserWarning: X does not have valid feature names, but StandardScaler was fitted with feature names\n",
            "  warnings.warn(\n",
            "C:\\Users\\hp\\AppData\\Local\\Packages\\PythonSoftwareFoundation.Python.3.9_qbz5n2kfra8p0\\LocalCache\\local-packages\\Python39\\site-packages\\sklearn\\base.py:450: UserWarning: X does not have valid feature names, but StandardScaler was fitted with feature names\n",
            "  warnings.warn(\n"
          ]
        },
        {
          "name": "stdout",
          "output_type": "stream",
          "text": [
            "yo [0.43 0.57]\n"
          ]
        },
        {
          "name": "stderr",
          "output_type": "stream",
          "text": [
            "C:\\Users\\hp\\AppData\\Local\\Packages\\PythonSoftwareFoundation.Python.3.9_qbz5n2kfra8p0\\LocalCache\\local-packages\\Python39\\site-packages\\sklearn\\base.py:450: UserWarning: X does not have valid feature names, but StandardScaler was fitted with feature names\n",
            "  warnings.warn(\n",
            "C:\\Users\\hp\\AppData\\Local\\Packages\\PythonSoftwareFoundation.Python.3.9_qbz5n2kfra8p0\\LocalCache\\local-packages\\Python39\\site-packages\\sklearn\\base.py:450: UserWarning: X does not have valid feature names, but StandardScaler was fitted with feature names\n",
            "  warnings.warn(\n"
          ]
        },
        {
          "name": "stdout",
          "output_type": "stream",
          "text": [
            "yo [0.44 0.56]\n"
          ]
        },
        {
          "name": "stderr",
          "output_type": "stream",
          "text": [
            "C:\\Users\\hp\\AppData\\Local\\Packages\\PythonSoftwareFoundation.Python.3.9_qbz5n2kfra8p0\\LocalCache\\local-packages\\Python39\\site-packages\\sklearn\\base.py:450: UserWarning: X does not have valid feature names, but StandardScaler was fitted with feature names\n",
            "  warnings.warn(\n",
            "C:\\Users\\hp\\AppData\\Local\\Packages\\PythonSoftwareFoundation.Python.3.9_qbz5n2kfra8p0\\LocalCache\\local-packages\\Python39\\site-packages\\sklearn\\base.py:450: UserWarning: X does not have valid feature names, but StandardScaler was fitted with feature names\n",
            "  warnings.warn(\n"
          ]
        },
        {
          "name": "stdout",
          "output_type": "stream",
          "text": [
            "yo [0.46 0.54]\n"
          ]
        },
        {
          "name": "stderr",
          "output_type": "stream",
          "text": [
            "C:\\Users\\hp\\AppData\\Local\\Packages\\PythonSoftwareFoundation.Python.3.9_qbz5n2kfra8p0\\LocalCache\\local-packages\\Python39\\site-packages\\sklearn\\base.py:450: UserWarning: X does not have valid feature names, but StandardScaler was fitted with feature names\n",
            "  warnings.warn(\n",
            "C:\\Users\\hp\\AppData\\Local\\Packages\\PythonSoftwareFoundation.Python.3.9_qbz5n2kfra8p0\\LocalCache\\local-packages\\Python39\\site-packages\\sklearn\\base.py:450: UserWarning: X does not have valid feature names, but StandardScaler was fitted with feature names\n",
            "  warnings.warn(\n"
          ]
        },
        {
          "name": "stdout",
          "output_type": "stream",
          "text": [
            "yo [0.33 0.67]\n"
          ]
        },
        {
          "name": "stderr",
          "output_type": "stream",
          "text": [
            "C:\\Users\\hp\\AppData\\Local\\Packages\\PythonSoftwareFoundation.Python.3.9_qbz5n2kfra8p0\\LocalCache\\local-packages\\Python39\\site-packages\\sklearn\\base.py:450: UserWarning: X does not have valid feature names, but StandardScaler was fitted with feature names\n",
            "  warnings.warn(\n",
            "C:\\Users\\hp\\AppData\\Local\\Packages\\PythonSoftwareFoundation.Python.3.9_qbz5n2kfra8p0\\LocalCache\\local-packages\\Python39\\site-packages\\sklearn\\base.py:450: UserWarning: X does not have valid feature names, but StandardScaler was fitted with feature names\n",
            "  warnings.warn(\n"
          ]
        },
        {
          "name": "stdout",
          "output_type": "stream",
          "text": [
            "yo [0.45 0.55]\n"
          ]
        },
        {
          "name": "stderr",
          "output_type": "stream",
          "text": [
            "C:\\Users\\hp\\AppData\\Local\\Packages\\PythonSoftwareFoundation.Python.3.9_qbz5n2kfra8p0\\LocalCache\\local-packages\\Python39\\site-packages\\sklearn\\base.py:450: UserWarning: X does not have valid feature names, but StandardScaler was fitted with feature names\n",
            "  warnings.warn(\n",
            "C:\\Users\\hp\\AppData\\Local\\Packages\\PythonSoftwareFoundation.Python.3.9_qbz5n2kfra8p0\\LocalCache\\local-packages\\Python39\\site-packages\\sklearn\\base.py:450: UserWarning: X does not have valid feature names, but StandardScaler was fitted with feature names\n",
            "  warnings.warn(\n"
          ]
        },
        {
          "name": "stdout",
          "output_type": "stream",
          "text": [
            "yo [0.32 0.68]\n"
          ]
        },
        {
          "name": "stderr",
          "output_type": "stream",
          "text": [
            "C:\\Users\\hp\\AppData\\Local\\Packages\\PythonSoftwareFoundation.Python.3.9_qbz5n2kfra8p0\\LocalCache\\local-packages\\Python39\\site-packages\\sklearn\\base.py:450: UserWarning: X does not have valid feature names, but StandardScaler was fitted with feature names\n",
            "  warnings.warn(\n",
            "C:\\Users\\hp\\AppData\\Local\\Packages\\PythonSoftwareFoundation.Python.3.9_qbz5n2kfra8p0\\LocalCache\\local-packages\\Python39\\site-packages\\sklearn\\base.py:450: UserWarning: X does not have valid feature names, but StandardScaler was fitted with feature names\n",
            "  warnings.warn(\n"
          ]
        },
        {
          "name": "stdout",
          "output_type": "stream",
          "text": [
            "yo [0.23 0.77]\n"
          ]
        },
        {
          "name": "stderr",
          "output_type": "stream",
          "text": [
            "C:\\Users\\hp\\AppData\\Local\\Packages\\PythonSoftwareFoundation.Python.3.9_qbz5n2kfra8p0\\LocalCache\\local-packages\\Python39\\site-packages\\sklearn\\base.py:450: UserWarning: X does not have valid feature names, but StandardScaler was fitted with feature names\n",
            "  warnings.warn(\n",
            "C:\\Users\\hp\\AppData\\Local\\Packages\\PythonSoftwareFoundation.Python.3.9_qbz5n2kfra8p0\\LocalCache\\local-packages\\Python39\\site-packages\\sklearn\\base.py:450: UserWarning: X does not have valid feature names, but StandardScaler was fitted with feature names\n",
            "  warnings.warn(\n"
          ]
        },
        {
          "name": "stdout",
          "output_type": "stream",
          "text": [
            "yo [0.22 0.78]\n"
          ]
        },
        {
          "name": "stderr",
          "output_type": "stream",
          "text": [
            "C:\\Users\\hp\\AppData\\Local\\Packages\\PythonSoftwareFoundation.Python.3.9_qbz5n2kfra8p0\\LocalCache\\local-packages\\Python39\\site-packages\\sklearn\\base.py:450: UserWarning: X does not have valid feature names, but StandardScaler was fitted with feature names\n",
            "  warnings.warn(\n",
            "C:\\Users\\hp\\AppData\\Local\\Packages\\PythonSoftwareFoundation.Python.3.9_qbz5n2kfra8p0\\LocalCache\\local-packages\\Python39\\site-packages\\sklearn\\base.py:450: UserWarning: X does not have valid feature names, but StandardScaler was fitted with feature names\n",
            "  warnings.warn(\n"
          ]
        },
        {
          "name": "stdout",
          "output_type": "stream",
          "text": [
            "yo [0.23 0.77]\n"
          ]
        },
        {
          "name": "stderr",
          "output_type": "stream",
          "text": [
            "C:\\Users\\hp\\AppData\\Local\\Packages\\PythonSoftwareFoundation.Python.3.9_qbz5n2kfra8p0\\LocalCache\\local-packages\\Python39\\site-packages\\sklearn\\base.py:450: UserWarning: X does not have valid feature names, but StandardScaler was fitted with feature names\n",
            "  warnings.warn(\n",
            "C:\\Users\\hp\\AppData\\Local\\Packages\\PythonSoftwareFoundation.Python.3.9_qbz5n2kfra8p0\\LocalCache\\local-packages\\Python39\\site-packages\\sklearn\\base.py:450: UserWarning: X does not have valid feature names, but StandardScaler was fitted with feature names\n",
            "  warnings.warn(\n"
          ]
        },
        {
          "name": "stdout",
          "output_type": "stream",
          "text": [
            "yo [0.22 0.78]\n"
          ]
        },
        {
          "name": "stderr",
          "output_type": "stream",
          "text": [
            "C:\\Users\\hp\\AppData\\Local\\Packages\\PythonSoftwareFoundation.Python.3.9_qbz5n2kfra8p0\\LocalCache\\local-packages\\Python39\\site-packages\\sklearn\\base.py:450: UserWarning: X does not have valid feature names, but StandardScaler was fitted with feature names\n",
            "  warnings.warn(\n",
            "C:\\Users\\hp\\AppData\\Local\\Packages\\PythonSoftwareFoundation.Python.3.9_qbz5n2kfra8p0\\LocalCache\\local-packages\\Python39\\site-packages\\sklearn\\base.py:450: UserWarning: X does not have valid feature names, but StandardScaler was fitted with feature names\n",
            "  warnings.warn(\n"
          ]
        },
        {
          "name": "stdout",
          "output_type": "stream",
          "text": [
            "yo [0.17 0.83]\n"
          ]
        },
        {
          "name": "stderr",
          "output_type": "stream",
          "text": [
            "C:\\Users\\hp\\AppData\\Local\\Packages\\PythonSoftwareFoundation.Python.3.9_qbz5n2kfra8p0\\LocalCache\\local-packages\\Python39\\site-packages\\sklearn\\base.py:450: UserWarning: X does not have valid feature names, but StandardScaler was fitted with feature names\n",
            "  warnings.warn(\n",
            "C:\\Users\\hp\\AppData\\Local\\Packages\\PythonSoftwareFoundation.Python.3.9_qbz5n2kfra8p0\\LocalCache\\local-packages\\Python39\\site-packages\\sklearn\\base.py:450: UserWarning: X does not have valid feature names, but StandardScaler was fitted with feature names\n",
            "  warnings.warn(\n"
          ]
        },
        {
          "name": "stdout",
          "output_type": "stream",
          "text": [
            "yo [0.11 0.89]\n"
          ]
        },
        {
          "name": "stderr",
          "output_type": "stream",
          "text": [
            "C:\\Users\\hp\\AppData\\Local\\Packages\\PythonSoftwareFoundation.Python.3.9_qbz5n2kfra8p0\\LocalCache\\local-packages\\Python39\\site-packages\\sklearn\\base.py:450: UserWarning: X does not have valid feature names, but StandardScaler was fitted with feature names\n",
            "  warnings.warn(\n",
            "C:\\Users\\hp\\AppData\\Local\\Packages\\PythonSoftwareFoundation.Python.3.9_qbz5n2kfra8p0\\LocalCache\\local-packages\\Python39\\site-packages\\sklearn\\base.py:450: UserWarning: X does not have valid feature names, but StandardScaler was fitted with feature names\n",
            "  warnings.warn(\n"
          ]
        },
        {
          "name": "stdout",
          "output_type": "stream",
          "text": [
            "yo [0.03 0.97]\n"
          ]
        },
        {
          "name": "stderr",
          "output_type": "stream",
          "text": [
            "C:\\Users\\hp\\AppData\\Local\\Packages\\PythonSoftwareFoundation.Python.3.9_qbz5n2kfra8p0\\LocalCache\\local-packages\\Python39\\site-packages\\sklearn\\base.py:450: UserWarning: X does not have valid feature names, but StandardScaler was fitted with feature names\n",
            "  warnings.warn(\n",
            "C:\\Users\\hp\\AppData\\Local\\Packages\\PythonSoftwareFoundation.Python.3.9_qbz5n2kfra8p0\\LocalCache\\local-packages\\Python39\\site-packages\\sklearn\\base.py:450: UserWarning: X does not have valid feature names, but StandardScaler was fitted with feature names\n",
            "  warnings.warn(\n"
          ]
        },
        {
          "name": "stdout",
          "output_type": "stream",
          "text": [
            "yo [0.05 0.95]\n"
          ]
        },
        {
          "name": "stderr",
          "output_type": "stream",
          "text": [
            "C:\\Users\\hp\\AppData\\Local\\Packages\\PythonSoftwareFoundation.Python.3.9_qbz5n2kfra8p0\\LocalCache\\local-packages\\Python39\\site-packages\\sklearn\\base.py:450: UserWarning: X does not have valid feature names, but StandardScaler was fitted with feature names\n",
            "  warnings.warn(\n",
            "C:\\Users\\hp\\AppData\\Local\\Packages\\PythonSoftwareFoundation.Python.3.9_qbz5n2kfra8p0\\LocalCache\\local-packages\\Python39\\site-packages\\sklearn\\base.py:450: UserWarning: X does not have valid feature names, but StandardScaler was fitted with feature names\n",
            "  warnings.warn(\n"
          ]
        },
        {
          "name": "stdout",
          "output_type": "stream",
          "text": [
            "yo [0.26 0.74]\n"
          ]
        },
        {
          "name": "stderr",
          "output_type": "stream",
          "text": [
            "C:\\Users\\hp\\AppData\\Local\\Packages\\PythonSoftwareFoundation.Python.3.9_qbz5n2kfra8p0\\LocalCache\\local-packages\\Python39\\site-packages\\sklearn\\base.py:450: UserWarning: X does not have valid feature names, but StandardScaler was fitted with feature names\n",
            "  warnings.warn(\n",
            "C:\\Users\\hp\\AppData\\Local\\Packages\\PythonSoftwareFoundation.Python.3.9_qbz5n2kfra8p0\\LocalCache\\local-packages\\Python39\\site-packages\\sklearn\\base.py:450: UserWarning: X does not have valid feature names, but StandardScaler was fitted with feature names\n",
            "  warnings.warn(\n"
          ]
        },
        {
          "name": "stdout",
          "output_type": "stream",
          "text": [
            "yo [0.47 0.53]\n"
          ]
        },
        {
          "name": "stderr",
          "output_type": "stream",
          "text": [
            "C:\\Users\\hp\\AppData\\Local\\Packages\\PythonSoftwareFoundation.Python.3.9_qbz5n2kfra8p0\\LocalCache\\local-packages\\Python39\\site-packages\\sklearn\\base.py:450: UserWarning: X does not have valid feature names, but StandardScaler was fitted with feature names\n",
            "  warnings.warn(\n",
            "C:\\Users\\hp\\AppData\\Local\\Packages\\PythonSoftwareFoundation.Python.3.9_qbz5n2kfra8p0\\LocalCache\\local-packages\\Python39\\site-packages\\sklearn\\base.py:450: UserWarning: X does not have valid feature names, but StandardScaler was fitted with feature names\n",
            "  warnings.warn(\n"
          ]
        },
        {
          "name": "stdout",
          "output_type": "stream",
          "text": [
            "Wakanda Forever [0.56 0.44]\n"
          ]
        },
        {
          "name": "stderr",
          "output_type": "stream",
          "text": [
            "C:\\Users\\hp\\AppData\\Local\\Packages\\PythonSoftwareFoundation.Python.3.9_qbz5n2kfra8p0\\LocalCache\\local-packages\\Python39\\site-packages\\sklearn\\base.py:450: UserWarning: X does not have valid feature names, but StandardScaler was fitted with feature names\n",
            "  warnings.warn(\n",
            "C:\\Users\\hp\\AppData\\Local\\Packages\\PythonSoftwareFoundation.Python.3.9_qbz5n2kfra8p0\\LocalCache\\local-packages\\Python39\\site-packages\\sklearn\\base.py:450: UserWarning: X does not have valid feature names, but StandardScaler was fitted with feature names\n",
            "  warnings.warn(\n"
          ]
        },
        {
          "name": "stdout",
          "output_type": "stream",
          "text": [
            "Wakanda Forever [0.57 0.43]\n"
          ]
        },
        {
          "name": "stderr",
          "output_type": "stream",
          "text": [
            "C:\\Users\\hp\\AppData\\Local\\Packages\\PythonSoftwareFoundation.Python.3.9_qbz5n2kfra8p0\\LocalCache\\local-packages\\Python39\\site-packages\\sklearn\\base.py:450: UserWarning: X does not have valid feature names, but StandardScaler was fitted with feature names\n",
            "  warnings.warn(\n",
            "C:\\Users\\hp\\AppData\\Local\\Packages\\PythonSoftwareFoundation.Python.3.9_qbz5n2kfra8p0\\LocalCache\\local-packages\\Python39\\site-packages\\sklearn\\base.py:450: UserWarning: X does not have valid feature names, but StandardScaler was fitted with feature names\n",
            "  warnings.warn(\n"
          ]
        },
        {
          "name": "stdout",
          "output_type": "stream",
          "text": [
            "Wakanda Forever [0.53 0.47]\n"
          ]
        },
        {
          "name": "stderr",
          "output_type": "stream",
          "text": [
            "C:\\Users\\hp\\AppData\\Local\\Packages\\PythonSoftwareFoundation.Python.3.9_qbz5n2kfra8p0\\LocalCache\\local-packages\\Python39\\site-packages\\sklearn\\base.py:450: UserWarning: X does not have valid feature names, but StandardScaler was fitted with feature names\n",
            "  warnings.warn(\n",
            "C:\\Users\\hp\\AppData\\Local\\Packages\\PythonSoftwareFoundation.Python.3.9_qbz5n2kfra8p0\\LocalCache\\local-packages\\Python39\\site-packages\\sklearn\\base.py:450: UserWarning: X does not have valid feature names, but StandardScaler was fitted with feature names\n",
            "  warnings.warn(\n"
          ]
        },
        {
          "name": "stdout",
          "output_type": "stream",
          "text": [
            "yo [0.35 0.65]\n"
          ]
        },
        {
          "name": "stderr",
          "output_type": "stream",
          "text": [
            "C:\\Users\\hp\\AppData\\Local\\Packages\\PythonSoftwareFoundation.Python.3.9_qbz5n2kfra8p0\\LocalCache\\local-packages\\Python39\\site-packages\\sklearn\\base.py:450: UserWarning: X does not have valid feature names, but StandardScaler was fitted with feature names\n",
            "  warnings.warn(\n",
            "C:\\Users\\hp\\AppData\\Local\\Packages\\PythonSoftwareFoundation.Python.3.9_qbz5n2kfra8p0\\LocalCache\\local-packages\\Python39\\site-packages\\sklearn\\base.py:450: UserWarning: X does not have valid feature names, but StandardScaler was fitted with feature names\n",
            "  warnings.warn(\n"
          ]
        },
        {
          "name": "stdout",
          "output_type": "stream",
          "text": [
            "yo [0.26 0.74]\n"
          ]
        },
        {
          "name": "stderr",
          "output_type": "stream",
          "text": [
            "C:\\Users\\hp\\AppData\\Local\\Packages\\PythonSoftwareFoundation.Python.3.9_qbz5n2kfra8p0\\LocalCache\\local-packages\\Python39\\site-packages\\sklearn\\base.py:450: UserWarning: X does not have valid feature names, but StandardScaler was fitted with feature names\n",
            "  warnings.warn(\n",
            "C:\\Users\\hp\\AppData\\Local\\Packages\\PythonSoftwareFoundation.Python.3.9_qbz5n2kfra8p0\\LocalCache\\local-packages\\Python39\\site-packages\\sklearn\\base.py:450: UserWarning: X does not have valid feature names, but StandardScaler was fitted with feature names\n",
            "  warnings.warn(\n"
          ]
        },
        {
          "name": "stdout",
          "output_type": "stream",
          "text": [
            "yo [0.21 0.79]\n"
          ]
        },
        {
          "name": "stderr",
          "output_type": "stream",
          "text": [
            "C:\\Users\\hp\\AppData\\Local\\Packages\\PythonSoftwareFoundation.Python.3.9_qbz5n2kfra8p0\\LocalCache\\local-packages\\Python39\\site-packages\\sklearn\\base.py:450: UserWarning: X does not have valid feature names, but StandardScaler was fitted with feature names\n",
            "  warnings.warn(\n",
            "C:\\Users\\hp\\AppData\\Local\\Packages\\PythonSoftwareFoundation.Python.3.9_qbz5n2kfra8p0\\LocalCache\\local-packages\\Python39\\site-packages\\sklearn\\base.py:450: UserWarning: X does not have valid feature names, but StandardScaler was fitted with feature names\n",
            "  warnings.warn(\n"
          ]
        },
        {
          "name": "stdout",
          "output_type": "stream",
          "text": [
            "yo [0.29 0.71]\n"
          ]
        },
        {
          "name": "stderr",
          "output_type": "stream",
          "text": [
            "C:\\Users\\hp\\AppData\\Local\\Packages\\PythonSoftwareFoundation.Python.3.9_qbz5n2kfra8p0\\LocalCache\\local-packages\\Python39\\site-packages\\sklearn\\base.py:450: UserWarning: X does not have valid feature names, but StandardScaler was fitted with feature names\n",
            "  warnings.warn(\n",
            "C:\\Users\\hp\\AppData\\Local\\Packages\\PythonSoftwareFoundation.Python.3.9_qbz5n2kfra8p0\\LocalCache\\local-packages\\Python39\\site-packages\\sklearn\\base.py:450: UserWarning: X does not have valid feature names, but StandardScaler was fitted with feature names\n",
            "  warnings.warn(\n"
          ]
        },
        {
          "name": "stdout",
          "output_type": "stream",
          "text": [
            "yo [0.28 0.72]\n"
          ]
        },
        {
          "name": "stderr",
          "output_type": "stream",
          "text": [
            "C:\\Users\\hp\\AppData\\Local\\Packages\\PythonSoftwareFoundation.Python.3.9_qbz5n2kfra8p0\\LocalCache\\local-packages\\Python39\\site-packages\\sklearn\\base.py:450: UserWarning: X does not have valid feature names, but StandardScaler was fitted with feature names\n",
            "  warnings.warn(\n",
            "C:\\Users\\hp\\AppData\\Local\\Packages\\PythonSoftwareFoundation.Python.3.9_qbz5n2kfra8p0\\LocalCache\\local-packages\\Python39\\site-packages\\sklearn\\base.py:450: UserWarning: X does not have valid feature names, but StandardScaler was fitted with feature names\n",
            "  warnings.warn(\n"
          ]
        },
        {
          "name": "stdout",
          "output_type": "stream",
          "text": [
            "yo [0.25 0.75]\n"
          ]
        },
        {
          "name": "stderr",
          "output_type": "stream",
          "text": [
            "C:\\Users\\hp\\AppData\\Local\\Packages\\PythonSoftwareFoundation.Python.3.9_qbz5n2kfra8p0\\LocalCache\\local-packages\\Python39\\site-packages\\sklearn\\base.py:450: UserWarning: X does not have valid feature names, but StandardScaler was fitted with feature names\n",
            "  warnings.warn(\n",
            "C:\\Users\\hp\\AppData\\Local\\Packages\\PythonSoftwareFoundation.Python.3.9_qbz5n2kfra8p0\\LocalCache\\local-packages\\Python39\\site-packages\\sklearn\\base.py:450: UserWarning: X does not have valid feature names, but StandardScaler was fitted with feature names\n",
            "  warnings.warn(\n"
          ]
        },
        {
          "name": "stdout",
          "output_type": "stream",
          "text": [
            "yo [0.23 0.77]\n"
          ]
        },
        {
          "name": "stderr",
          "output_type": "stream",
          "text": [
            "C:\\Users\\hp\\AppData\\Local\\Packages\\PythonSoftwareFoundation.Python.3.9_qbz5n2kfra8p0\\LocalCache\\local-packages\\Python39\\site-packages\\sklearn\\base.py:450: UserWarning: X does not have valid feature names, but StandardScaler was fitted with feature names\n",
            "  warnings.warn(\n",
            "C:\\Users\\hp\\AppData\\Local\\Packages\\PythonSoftwareFoundation.Python.3.9_qbz5n2kfra8p0\\LocalCache\\local-packages\\Python39\\site-packages\\sklearn\\base.py:450: UserWarning: X does not have valid feature names, but StandardScaler was fitted with feature names\n",
            "  warnings.warn(\n"
          ]
        },
        {
          "name": "stdout",
          "output_type": "stream",
          "text": [
            "yo [0.47 0.53]\n"
          ]
        },
        {
          "name": "stderr",
          "output_type": "stream",
          "text": [
            "C:\\Users\\hp\\AppData\\Local\\Packages\\PythonSoftwareFoundation.Python.3.9_qbz5n2kfra8p0\\LocalCache\\local-packages\\Python39\\site-packages\\sklearn\\base.py:450: UserWarning: X does not have valid feature names, but StandardScaler was fitted with feature names\n",
            "  warnings.warn(\n",
            "C:\\Users\\hp\\AppData\\Local\\Packages\\PythonSoftwareFoundation.Python.3.9_qbz5n2kfra8p0\\LocalCache\\local-packages\\Python39\\site-packages\\sklearn\\base.py:450: UserWarning: X does not have valid feature names, but StandardScaler was fitted with feature names\n",
            "  warnings.warn(\n"
          ]
        },
        {
          "name": "stdout",
          "output_type": "stream",
          "text": [
            "yo [0.46 0.54]\n"
          ]
        },
        {
          "name": "stderr",
          "output_type": "stream",
          "text": [
            "C:\\Users\\hp\\AppData\\Local\\Packages\\PythonSoftwareFoundation.Python.3.9_qbz5n2kfra8p0\\LocalCache\\local-packages\\Python39\\site-packages\\sklearn\\base.py:450: UserWarning: X does not have valid feature names, but StandardScaler was fitted with feature names\n",
            "  warnings.warn(\n",
            "C:\\Users\\hp\\AppData\\Local\\Packages\\PythonSoftwareFoundation.Python.3.9_qbz5n2kfra8p0\\LocalCache\\local-packages\\Python39\\site-packages\\sklearn\\base.py:450: UserWarning: X does not have valid feature names, but StandardScaler was fitted with feature names\n",
            "  warnings.warn(\n"
          ]
        },
        {
          "name": "stdout",
          "output_type": "stream",
          "text": [
            "Wakanda Forever [0.7 0.3]\n"
          ]
        },
        {
          "name": "stderr",
          "output_type": "stream",
          "text": [
            "C:\\Users\\hp\\AppData\\Local\\Packages\\PythonSoftwareFoundation.Python.3.9_qbz5n2kfra8p0\\LocalCache\\local-packages\\Python39\\site-packages\\sklearn\\base.py:450: UserWarning: X does not have valid feature names, but StandardScaler was fitted with feature names\n",
            "  warnings.warn(\n",
            "C:\\Users\\hp\\AppData\\Local\\Packages\\PythonSoftwareFoundation.Python.3.9_qbz5n2kfra8p0\\LocalCache\\local-packages\\Python39\\site-packages\\sklearn\\base.py:450: UserWarning: X does not have valid feature names, but StandardScaler was fitted with feature names\n",
            "  warnings.warn(\n"
          ]
        },
        {
          "name": "stdout",
          "output_type": "stream",
          "text": [
            "Wakanda Forever [0.61 0.39]\n"
          ]
        },
        {
          "name": "stderr",
          "output_type": "stream",
          "text": [
            "C:\\Users\\hp\\AppData\\Local\\Packages\\PythonSoftwareFoundation.Python.3.9_qbz5n2kfra8p0\\LocalCache\\local-packages\\Python39\\site-packages\\sklearn\\base.py:450: UserWarning: X does not have valid feature names, but StandardScaler was fitted with feature names\n",
            "  warnings.warn(\n",
            "C:\\Users\\hp\\AppData\\Local\\Packages\\PythonSoftwareFoundation.Python.3.9_qbz5n2kfra8p0\\LocalCache\\local-packages\\Python39\\site-packages\\sklearn\\base.py:450: UserWarning: X does not have valid feature names, but StandardScaler was fitted with feature names\n",
            "  warnings.warn(\n"
          ]
        },
        {
          "name": "stdout",
          "output_type": "stream",
          "text": [
            "Wakanda Forever [0.51 0.49]\n"
          ]
        },
        {
          "name": "stderr",
          "output_type": "stream",
          "text": [
            "C:\\Users\\hp\\AppData\\Local\\Packages\\PythonSoftwareFoundation.Python.3.9_qbz5n2kfra8p0\\LocalCache\\local-packages\\Python39\\site-packages\\sklearn\\base.py:450: UserWarning: X does not have valid feature names, but StandardScaler was fitted with feature names\n",
            "  warnings.warn(\n",
            "C:\\Users\\hp\\AppData\\Local\\Packages\\PythonSoftwareFoundation.Python.3.9_qbz5n2kfra8p0\\LocalCache\\local-packages\\Python39\\site-packages\\sklearn\\base.py:450: UserWarning: X does not have valid feature names, but StandardScaler was fitted with feature names\n",
            "  warnings.warn(\n"
          ]
        },
        {
          "name": "stdout",
          "output_type": "stream",
          "text": [
            "Wakanda Forever [0.56 0.44]\n"
          ]
        },
        {
          "name": "stderr",
          "output_type": "stream",
          "text": [
            "C:\\Users\\hp\\AppData\\Local\\Packages\\PythonSoftwareFoundation.Python.3.9_qbz5n2kfra8p0\\LocalCache\\local-packages\\Python39\\site-packages\\sklearn\\base.py:450: UserWarning: X does not have valid feature names, but StandardScaler was fitted with feature names\n",
            "  warnings.warn(\n",
            "C:\\Users\\hp\\AppData\\Local\\Packages\\PythonSoftwareFoundation.Python.3.9_qbz5n2kfra8p0\\LocalCache\\local-packages\\Python39\\site-packages\\sklearn\\base.py:450: UserWarning: X does not have valid feature names, but StandardScaler was fitted with feature names\n",
            "  warnings.warn(\n"
          ]
        },
        {
          "name": "stdout",
          "output_type": "stream",
          "text": [
            "yo [0.47 0.53]\n"
          ]
        },
        {
          "name": "stderr",
          "output_type": "stream",
          "text": [
            "C:\\Users\\hp\\AppData\\Local\\Packages\\PythonSoftwareFoundation.Python.3.9_qbz5n2kfra8p0\\LocalCache\\local-packages\\Python39\\site-packages\\sklearn\\base.py:450: UserWarning: X does not have valid feature names, but StandardScaler was fitted with feature names\n",
            "  warnings.warn(\n",
            "C:\\Users\\hp\\AppData\\Local\\Packages\\PythonSoftwareFoundation.Python.3.9_qbz5n2kfra8p0\\LocalCache\\local-packages\\Python39\\site-packages\\sklearn\\base.py:450: UserWarning: X does not have valid feature names, but StandardScaler was fitted with feature names\n",
            "  warnings.warn(\n"
          ]
        },
        {
          "name": "stdout",
          "output_type": "stream",
          "text": [
            "Wakanda Forever [0.7 0.3]\n"
          ]
        },
        {
          "name": "stderr",
          "output_type": "stream",
          "text": [
            "C:\\Users\\hp\\AppData\\Local\\Packages\\PythonSoftwareFoundation.Python.3.9_qbz5n2kfra8p0\\LocalCache\\local-packages\\Python39\\site-packages\\sklearn\\base.py:450: UserWarning: X does not have valid feature names, but StandardScaler was fitted with feature names\n",
            "  warnings.warn(\n",
            "C:\\Users\\hp\\AppData\\Local\\Packages\\PythonSoftwareFoundation.Python.3.9_qbz5n2kfra8p0\\LocalCache\\local-packages\\Python39\\site-packages\\sklearn\\base.py:450: UserWarning: X does not have valid feature names, but StandardScaler was fitted with feature names\n",
            "  warnings.warn(\n"
          ]
        },
        {
          "name": "stdout",
          "output_type": "stream",
          "text": [
            "Wakanda Forever [0.88 0.12]\n"
          ]
        },
        {
          "name": "stderr",
          "output_type": "stream",
          "text": [
            "C:\\Users\\hp\\AppData\\Local\\Packages\\PythonSoftwareFoundation.Python.3.9_qbz5n2kfra8p0\\LocalCache\\local-packages\\Python39\\site-packages\\sklearn\\base.py:450: UserWarning: X does not have valid feature names, but StandardScaler was fitted with feature names\n",
            "  warnings.warn(\n",
            "C:\\Users\\hp\\AppData\\Local\\Packages\\PythonSoftwareFoundation.Python.3.9_qbz5n2kfra8p0\\LocalCache\\local-packages\\Python39\\site-packages\\sklearn\\base.py:450: UserWarning: X does not have valid feature names, but StandardScaler was fitted with feature names\n",
            "  warnings.warn(\n"
          ]
        },
        {
          "name": "stdout",
          "output_type": "stream",
          "text": [
            "Wakanda Forever [0.78 0.22]\n"
          ]
        },
        {
          "name": "stderr",
          "output_type": "stream",
          "text": [
            "C:\\Users\\hp\\AppData\\Local\\Packages\\PythonSoftwareFoundation.Python.3.9_qbz5n2kfra8p0\\LocalCache\\local-packages\\Python39\\site-packages\\sklearn\\base.py:450: UserWarning: X does not have valid feature names, but StandardScaler was fitted with feature names\n",
            "  warnings.warn(\n",
            "C:\\Users\\hp\\AppData\\Local\\Packages\\PythonSoftwareFoundation.Python.3.9_qbz5n2kfra8p0\\LocalCache\\local-packages\\Python39\\site-packages\\sklearn\\base.py:450: UserWarning: X does not have valid feature names, but StandardScaler was fitted with feature names\n",
            "  warnings.warn(\n"
          ]
        },
        {
          "name": "stdout",
          "output_type": "stream",
          "text": [
            "Wakanda Forever [0.72 0.28]\n"
          ]
        },
        {
          "name": "stderr",
          "output_type": "stream",
          "text": [
            "C:\\Users\\hp\\AppData\\Local\\Packages\\PythonSoftwareFoundation.Python.3.9_qbz5n2kfra8p0\\LocalCache\\local-packages\\Python39\\site-packages\\sklearn\\base.py:450: UserWarning: X does not have valid feature names, but StandardScaler was fitted with feature names\n",
            "  warnings.warn(\n",
            "C:\\Users\\hp\\AppData\\Local\\Packages\\PythonSoftwareFoundation.Python.3.9_qbz5n2kfra8p0\\LocalCache\\local-packages\\Python39\\site-packages\\sklearn\\base.py:450: UserWarning: X does not have valid feature names, but StandardScaler was fitted with feature names\n",
            "  warnings.warn(\n"
          ]
        },
        {
          "name": "stdout",
          "output_type": "stream",
          "text": [
            "Wakanda Forever [0.81 0.19]\n"
          ]
        },
        {
          "name": "stderr",
          "output_type": "stream",
          "text": [
            "C:\\Users\\hp\\AppData\\Local\\Packages\\PythonSoftwareFoundation.Python.3.9_qbz5n2kfra8p0\\LocalCache\\local-packages\\Python39\\site-packages\\sklearn\\base.py:450: UserWarning: X does not have valid feature names, but StandardScaler was fitted with feature names\n",
            "  warnings.warn(\n",
            "C:\\Users\\hp\\AppData\\Local\\Packages\\PythonSoftwareFoundation.Python.3.9_qbz5n2kfra8p0\\LocalCache\\local-packages\\Python39\\site-packages\\sklearn\\base.py:450: UserWarning: X does not have valid feature names, but StandardScaler was fitted with feature names\n",
            "  warnings.warn(\n"
          ]
        },
        {
          "name": "stdout",
          "output_type": "stream",
          "text": [
            "Wakanda Forever [0.69 0.31]\n"
          ]
        },
        {
          "name": "stderr",
          "output_type": "stream",
          "text": [
            "C:\\Users\\hp\\AppData\\Local\\Packages\\PythonSoftwareFoundation.Python.3.9_qbz5n2kfra8p0\\LocalCache\\local-packages\\Python39\\site-packages\\sklearn\\base.py:450: UserWarning: X does not have valid feature names, but StandardScaler was fitted with feature names\n",
            "  warnings.warn(\n",
            "C:\\Users\\hp\\AppData\\Local\\Packages\\PythonSoftwareFoundation.Python.3.9_qbz5n2kfra8p0\\LocalCache\\local-packages\\Python39\\site-packages\\sklearn\\base.py:450: UserWarning: X does not have valid feature names, but StandardScaler was fitted with feature names\n",
            "  warnings.warn(\n"
          ]
        },
        {
          "name": "stdout",
          "output_type": "stream",
          "text": [
            "Wakanda Forever [0.99 0.01]\n"
          ]
        },
        {
          "name": "stderr",
          "output_type": "stream",
          "text": [
            "C:\\Users\\hp\\AppData\\Local\\Packages\\PythonSoftwareFoundation.Python.3.9_qbz5n2kfra8p0\\LocalCache\\local-packages\\Python39\\site-packages\\sklearn\\base.py:450: UserWarning: X does not have valid feature names, but StandardScaler was fitted with feature names\n",
            "  warnings.warn(\n",
            "C:\\Users\\hp\\AppData\\Local\\Packages\\PythonSoftwareFoundation.Python.3.9_qbz5n2kfra8p0\\LocalCache\\local-packages\\Python39\\site-packages\\sklearn\\base.py:450: UserWarning: X does not have valid feature names, but StandardScaler was fitted with feature names\n",
            "  warnings.warn(\n"
          ]
        },
        {
          "name": "stdout",
          "output_type": "stream",
          "text": [
            "Wakanda Forever [1. 0.]\n"
          ]
        },
        {
          "name": "stderr",
          "output_type": "stream",
          "text": [
            "C:\\Users\\hp\\AppData\\Local\\Packages\\PythonSoftwareFoundation.Python.3.9_qbz5n2kfra8p0\\LocalCache\\local-packages\\Python39\\site-packages\\sklearn\\base.py:450: UserWarning: X does not have valid feature names, but StandardScaler was fitted with feature names\n",
            "  warnings.warn(\n",
            "C:\\Users\\hp\\AppData\\Local\\Packages\\PythonSoftwareFoundation.Python.3.9_qbz5n2kfra8p0\\LocalCache\\local-packages\\Python39\\site-packages\\sklearn\\base.py:450: UserWarning: X does not have valid feature names, but StandardScaler was fitted with feature names\n",
            "  warnings.warn(\n"
          ]
        },
        {
          "name": "stdout",
          "output_type": "stream",
          "text": [
            "Wakanda Forever [1. 0.]\n"
          ]
        },
        {
          "name": "stderr",
          "output_type": "stream",
          "text": [
            "C:\\Users\\hp\\AppData\\Local\\Packages\\PythonSoftwareFoundation.Python.3.9_qbz5n2kfra8p0\\LocalCache\\local-packages\\Python39\\site-packages\\sklearn\\base.py:450: UserWarning: X does not have valid feature names, but StandardScaler was fitted with feature names\n",
            "  warnings.warn(\n",
            "C:\\Users\\hp\\AppData\\Local\\Packages\\PythonSoftwareFoundation.Python.3.9_qbz5n2kfra8p0\\LocalCache\\local-packages\\Python39\\site-packages\\sklearn\\base.py:450: UserWarning: X does not have valid feature names, but StandardScaler was fitted with feature names\n",
            "  warnings.warn(\n"
          ]
        },
        {
          "name": "stdout",
          "output_type": "stream",
          "text": [
            "Wakanda Forever [0.99 0.01]\n"
          ]
        },
        {
          "name": "stderr",
          "output_type": "stream",
          "text": [
            "C:\\Users\\hp\\AppData\\Local\\Packages\\PythonSoftwareFoundation.Python.3.9_qbz5n2kfra8p0\\LocalCache\\local-packages\\Python39\\site-packages\\sklearn\\base.py:450: UserWarning: X does not have valid feature names, but StandardScaler was fitted with feature names\n",
            "  warnings.warn(\n",
            "C:\\Users\\hp\\AppData\\Local\\Packages\\PythonSoftwareFoundation.Python.3.9_qbz5n2kfra8p0\\LocalCache\\local-packages\\Python39\\site-packages\\sklearn\\base.py:450: UserWarning: X does not have valid feature names, but StandardScaler was fitted with feature names\n",
            "  warnings.warn(\n"
          ]
        },
        {
          "name": "stdout",
          "output_type": "stream",
          "text": [
            "Wakanda Forever [0.99 0.01]\n"
          ]
        },
        {
          "name": "stderr",
          "output_type": "stream",
          "text": [
            "C:\\Users\\hp\\AppData\\Local\\Packages\\PythonSoftwareFoundation.Python.3.9_qbz5n2kfra8p0\\LocalCache\\local-packages\\Python39\\site-packages\\sklearn\\base.py:450: UserWarning: X does not have valid feature names, but StandardScaler was fitted with feature names\n",
            "  warnings.warn(\n",
            "C:\\Users\\hp\\AppData\\Local\\Packages\\PythonSoftwareFoundation.Python.3.9_qbz5n2kfra8p0\\LocalCache\\local-packages\\Python39\\site-packages\\sklearn\\base.py:450: UserWarning: X does not have valid feature names, but StandardScaler was fitted with feature names\n",
            "  warnings.warn(\n"
          ]
        },
        {
          "name": "stdout",
          "output_type": "stream",
          "text": [
            "Wakanda Forever [0.98 0.02]\n"
          ]
        },
        {
          "name": "stderr",
          "output_type": "stream",
          "text": [
            "C:\\Users\\hp\\AppData\\Local\\Packages\\PythonSoftwareFoundation.Python.3.9_qbz5n2kfra8p0\\LocalCache\\local-packages\\Python39\\site-packages\\sklearn\\base.py:450: UserWarning: X does not have valid feature names, but StandardScaler was fitted with feature names\n",
            "  warnings.warn(\n",
            "C:\\Users\\hp\\AppData\\Local\\Packages\\PythonSoftwareFoundation.Python.3.9_qbz5n2kfra8p0\\LocalCache\\local-packages\\Python39\\site-packages\\sklearn\\base.py:450: UserWarning: X does not have valid feature names, but StandardScaler was fitted with feature names\n",
            "  warnings.warn(\n"
          ]
        },
        {
          "name": "stdout",
          "output_type": "stream",
          "text": [
            "Wakanda Forever [0.89 0.11]\n"
          ]
        },
        {
          "name": "stderr",
          "output_type": "stream",
          "text": [
            "C:\\Users\\hp\\AppData\\Local\\Packages\\PythonSoftwareFoundation.Python.3.9_qbz5n2kfra8p0\\LocalCache\\local-packages\\Python39\\site-packages\\sklearn\\base.py:450: UserWarning: X does not have valid feature names, but StandardScaler was fitted with feature names\n",
            "  warnings.warn(\n",
            "C:\\Users\\hp\\AppData\\Local\\Packages\\PythonSoftwareFoundation.Python.3.9_qbz5n2kfra8p0\\LocalCache\\local-packages\\Python39\\site-packages\\sklearn\\base.py:450: UserWarning: X does not have valid feature names, but StandardScaler was fitted with feature names\n",
            "  warnings.warn(\n"
          ]
        },
        {
          "name": "stdout",
          "output_type": "stream",
          "text": [
            "yo [0.17 0.83]\n"
          ]
        },
        {
          "name": "stderr",
          "output_type": "stream",
          "text": [
            "C:\\Users\\hp\\AppData\\Local\\Packages\\PythonSoftwareFoundation.Python.3.9_qbz5n2kfra8p0\\LocalCache\\local-packages\\Python39\\site-packages\\sklearn\\base.py:450: UserWarning: X does not have valid feature names, but StandardScaler was fitted with feature names\n",
            "  warnings.warn(\n",
            "C:\\Users\\hp\\AppData\\Local\\Packages\\PythonSoftwareFoundation.Python.3.9_qbz5n2kfra8p0\\LocalCache\\local-packages\\Python39\\site-packages\\sklearn\\base.py:450: UserWarning: X does not have valid feature names, but StandardScaler was fitted with feature names\n",
            "  warnings.warn(\n"
          ]
        },
        {
          "name": "stdout",
          "output_type": "stream",
          "text": [
            "Wakanda Forever [0.74 0.26]\n"
          ]
        }
      ],
      "source": [
        "cap = cv2.VideoCapture(0)\n",
        "# Initiate holistic model\n",
        "with mp_holistic.Holistic(min_detection_confidence=0.5, min_tracking_confidence=0.5) as holistic:\n",
        "    \n",
        "    while cap.isOpened():\n",
        "        ret, frame = cap.read()\n",
        "        \n",
        "        # Recolor Feed\n",
        "        image = cv2.cvtColor(frame, cv2.COLOR_BGR2RGB)\n",
        "        image.flags.writeable = False        \n",
        "        \n",
        "        # Make Detections\n",
        "        results = holistic.process(image)\n",
        "        # print(results.face_landmarks)\n",
        "        \n",
        "        # face_landmarks, pose_landmarks, left_hand_landmarks, right_hand_landmarks\n",
        "        \n",
        "        # Recolor image back to BGR for rendering\n",
        "        image.flags.writeable = True   \n",
        "        image = cv2.cvtColor(image, cv2.COLOR_RGB2BGR)\n",
        "        \n",
        "        # 1. Draw face landmarks\n",
        "        mp_drawing.draw_landmarks(image, results.face_landmarks, mp_holistic.FACEMESH_TESSELATION, \n",
        "                                 mp_drawing.DrawingSpec(color=(80,110,10), thickness=1, circle_radius=1),\n",
        "                                 mp_drawing.DrawingSpec(color=(80,256,121), thickness=1, circle_radius=1)\n",
        "                                 )\n",
        "        \n",
        "        # 2. Right hand\n",
        "        mp_drawing.draw_landmarks(image, results.right_hand_landmarks, mp_holistic.HAND_CONNECTIONS, \n",
        "                                 mp_drawing.DrawingSpec(color=(80,22,10), thickness=2, circle_radius=4),\n",
        "                                 mp_drawing.DrawingSpec(color=(80,44,121), thickness=2, circle_radius=2)\n",
        "                                 )\n",
        "\n",
        "        # 3. Left Hand\n",
        "        mp_drawing.draw_landmarks(image, results.left_hand_landmarks, mp_holistic.HAND_CONNECTIONS, \n",
        "                                 mp_drawing.DrawingSpec(color=(121,22,76), thickness=2, circle_radius=4),\n",
        "                                 mp_drawing.DrawingSpec(color=(121,44,250), thickness=2, circle_radius=2)\n",
        "                                 )\n",
        "\n",
        "        # 4. Pose Detections\n",
        "        mp_drawing.draw_landmarks(image, results.pose_landmarks, mp_holistic.POSE_CONNECTIONS, \n",
        "                                 mp_drawing.DrawingSpec(color=(245,117,66), thickness=2, circle_radius=4),\n",
        "                                 mp_drawing.DrawingSpec(color=(245,66,230), thickness=2, circle_radius=2)\n",
        "                                 )\n",
        "        # Export coordinates\n",
        "        try:\n",
        "            # Extract Pose landmarks\n",
        "            pose = results.pose_landmarks.landmark\n",
        "            pose_row = list(np.array([[landmark.x, landmark.y, landmark.z, landmark.visibility] for landmark in pose]).flatten())\n",
        "            \n",
        "            # Extract Face landmarks\n",
        "            face = results.face_landmarks.landmark\n",
        "            face_row = list(np.array([[landmark.x, landmark.y, landmark.z, landmark.visibility] for landmark in face]).flatten())\n",
        "            \n",
        "            # Concate rows\n",
        "            row = pose_row+face_row\n",
        "            \n",
        "#             # Append class name \n",
        "#             row.insert(0, class_name)\n",
        "            \n",
        "#             # Export to CSV\n",
        "#             with open('coords.csv', mode='a', newline='') as f:\n",
        "#                 csv_writer = csv.writer(f, delimiter=',', quotechar='\"', quoting=csv.QUOTE_MINIMAL)\n",
        "#                 csv_writer.writerow(row) \n",
        "\n",
        "            # Make Detections\n",
        "            X = pd.DataFrame([row])\n",
        "            body_language_class = model.predict(X)[0]\n",
        "            body_language_prob = model.predict_proba(X)[0]\n",
        "            print(body_language_class, body_language_prob)\n",
        "            \n",
        "            # Grab ear coords\n",
        "            coords = tuple(np.multiply(\n",
        "                            np.array(\n",
        "                                (results.pose_landmarks.landmark[mp_holistic.PoseLandmark.LEFT_EAR].x, \n",
        "                                 results.pose_landmarks.landmark[mp_holistic.PoseLandmark.LEFT_EAR].y))\n",
        "                        , [640,480]).astype(int))\n",
        "            \n",
        "            cv2.rectangle(image, \n",
        "                          (coords[0], coords[1]+5), \n",
        "                          (coords[0]+len(body_language_class)*20, coords[1]-30), \n",
        "                          (245, 117, 16), -1)\n",
        "            cv2.putText(image, body_language_class, coords, \n",
        "                        cv2.FONT_HERSHEY_SIMPLEX, 1, (255, 255, 255), 2, cv2.LINE_AA)\n",
        "            \n",
        "            # Get status box\n",
        "            cv2.rectangle(image, (0,0), (250, 60), (245, 117, 16), -1)\n",
        "            \n",
        "            # Display Class\n",
        "            cv2.putText(image, 'CLASS'\n",
        "                        , (95,12), cv2.FONT_HERSHEY_SIMPLEX, 0.5, (0, 0, 0), 1, cv2.LINE_AA)\n",
        "            cv2.putText(image, body_language_class.split(' ')[0]\n",
        "                        , (90,40), cv2.FONT_HERSHEY_SIMPLEX, 1, (255, 255, 255), 2, cv2.LINE_AA)\n",
        "            \n",
        "            # Display Probability\n",
        "            cv2.putText(image, 'PROB'\n",
        "                        , (15,12), cv2.FONT_HERSHEY_SIMPLEX, 0.5, (0, 0, 0), 1, cv2.LINE_AA)\n",
        "            cv2.putText(image, str(round(body_language_prob[np.argmax(body_language_prob)],2))\n",
        "                        , (10,40), cv2.FONT_HERSHEY_SIMPLEX, 1, (255, 255, 255), 2, cv2.LINE_AA)\n",
        "            \n",
        "        except:\n",
        "            pass\n",
        "                        \n",
        "        cv2.imshow('Raw Webcam Feed', image)\n",
        "\n",
        "        if cv2.waitKey(10) & 0xFF == ord('q'):\n",
        "            break\n",
        "\n",
        "cap.release()\n",
        "cv2.destroyAllWindows()"
      ]
    },
    {
      "cell_type": "code",
      "execution_count": null,
      "metadata": {
        "id": "qpxdRxWQG2OH"
      },
      "outputs": [],
      "source": [
        "tuple(np.multiply(np.array((results.pose_landmarks.landmark[mp_holistic.PoseLandmark.LEFT_EAR].x, \n",
        "results.pose_landmarks.landmark[mp_holistic.PoseLandmark.LEFT_EAR].y)), [640,480]).astype(int))"
      ]
    },
    {
      "cell_type": "code",
      "execution_count": null,
      "metadata": {
        "id": "8DIeu9DUG2OH"
      },
      "outputs": [],
      "source": []
    },
    {
      "cell_type": "code",
      "execution_count": null,
      "metadata": {
        "id": "Qa5DZqUNG2OI"
      },
      "outputs": [],
      "source": []
    },
    {
      "cell_type": "code",
      "execution_count": null,
      "metadata": {
        "id": "2iOujdXWG2OI"
      },
      "outputs": [],
      "source": []
    }
  ],
  "metadata": {
    "colab": {
      "provenance": []
    },
    "kernelspec": {
      "display_name": "Python 3.8.5 ('base')",
      "language": "python",
      "name": "python3"
    },
    "language_info": {
      "codemirror_mode": {
        "name": "ipython",
        "version": 3
      },
      "file_extension": ".py",
      "mimetype": "text/x-python",
      "name": "python",
      "nbconvert_exporter": "python",
      "pygments_lexer": "ipython3",
      "version": "3.8.5"
    },
    "vscode": {
      "interpreter": {
        "hash": "7288a26f5c73106c686d8104c16ebcb796629555bb709ec9de3347ee47264a84"
      }
    }
  },
  "nbformat": 4,
  "nbformat_minor": 0
}
